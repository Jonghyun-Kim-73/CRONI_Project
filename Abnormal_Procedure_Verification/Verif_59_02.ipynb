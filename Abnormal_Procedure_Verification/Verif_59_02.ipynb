{
 "cells": [
  {
   "cell_type": "markdown",
   "id": "b6aff69e",
   "metadata": {},
   "source": [
    "# 비정상 절차서 59-02 : 충전수 유량조절밸브 후단누설"
   ]
  },
  {
   "cell_type": "markdown",
   "id": "36efef1f",
   "metadata": {},
   "source": [
    "경보 및 증상\n",
    "\n",
    "자동 동작사항\n",
    "\n",
    "긴급 조치사항\n",
    "\n",
    "후속 조치사항"
   ]
  },
  {
   "cell_type": "markdown",
   "id": "f8e82486",
   "metadata": {},
   "source": [
    "## 1.0 데이터 처리"
   ]
  },
  {
   "cell_type": "code",
   "execution_count": 2,
   "id": "51427a57",
   "metadata": {},
   "outputs": [],
   "source": [
    "import pickle\n",
    "import matplotlib.pyplot as plt\n",
    "from collections import deque\n",
    "with open('D:/1.All_python_project/New_CNS_db/ab59_02_1029.pkl', 'rb') as f:\n",
    "    db = pickle.load(f)"
   ]
  },
  {
   "cell_type": "markdown",
   "id": "4e56ff41",
   "metadata": {},
   "source": [
    "## 2.0 경보 및 증상"
   ]
  },
  {
   "cell_type": "markdown",
   "id": "1e85f1d8",
   "metadata": {},
   "source": [
    "### 2.1 CHG FLOW CONT FLOW HI/LO(JP005)"
   ]
  },
  {
   "cell_type": "code",
   "execution_count": null,
   "id": "4d370726",
   "metadata": {},
   "outputs": [],
   "source": [
    "KLAMPO266"
   ]
  },
  {
   "cell_type": "markdown",
   "id": "8a64cca7",
   "metadata": {},
   "source": [
    "### 2.2 PRZR CONT LEVEL LOW DEVIATION(JP006)"
   ]
  },
  {
   "cell_type": "markdown",
   "id": "c01fb429",
   "metadata": {},
   "source": [
    "### 2.3 VOL CONT TK LEVEL HIGH/LOW(JP005)"
   ]
  },
  {
   "cell_type": "markdown",
   "id": "1b9fe2bc",
   "metadata": {},
   "source": [
    "### 2.4 REGEN HX LETDN LINE TEMP HIGH(JP005)"
   ]
  },
  {
   "cell_type": "markdown",
   "id": "15655e29",
   "metadata": {},
   "source": [
    "### 2.5 RCP SEAL INJ WTR FLOW LOW(JP005)"
   ]
  },
  {
   "cell_type": "markdown",
   "id": "233cb3f9",
   "metadata": {},
   "source": [
    "### 2.6 1E RAD WARN ＆ HIGH ALARM(JP004)\n",
    "NON-1E RAD WARN ＆ HIGH ALARM(JP004) \n",
    "(격납건물:GT-RE001/002/119/211/132/133/220  JP014)\n",
    "(보조건물:GL-RE015/069/087  JP014)"
   ]
  },
  {
   "cell_type": "markdown",
   "id": "557dfaea",
   "metadata": {},
   "source": [
    "### 2.7 충전유량 지시계 지시치 증가(BG-FI122A  JP001)"
   ]
  },
  {
   "cell_type": "markdown",
   "id": "feb36419",
   "metadata": {},
   "source": [
    "### 2.8 가압기 수위 지시계 지시치 감소(BB-LI459A/460/461/460B  JP001/005) "
   ]
  },
  {
   "cell_type": "markdown",
   "id": "94a4e090",
   "metadata": {},
   "source": [
    "### 2.9 체적제어탱크 수위 지시계 지시치 감소(BG-LI115/112A  JP001/005)"
   ]
  },
  {
   "cell_type": "markdown",
   "id": "a0b2fb1e",
   "metadata": {},
   "source": [
    "### 2.10 재생 열교환기 후단 유출수 온도 지시계 지시치 증가(BG-TI140  JP001) (재생 열교환기 전단 충전수 관로 누설시)"
   ]
  },
  {
   "cell_type": "markdown",
   "id": "036fb261",
   "metadata": {},
   "source": [
    "### 2.11 재생 열교환기 후단 충전수 온도 지시계 지시치 감소(BG-TI123  JP001) (재생 열교환기 후단 충전수 관로 누설시)   "
   ]
  },
  {
   "cell_type": "markdown",
   "id": "8253b180",
   "metadata": {},
   "source": [
    "### 2.12 RCP 밀봉수 주입유량 지시계 지시치 감소(BG-FR154A/155A/156A  JP005)"
   ]
  },
  {
   "cell_type": "markdown",
   "id": "e86590d8",
   "metadata": {},
   "source": [
    "### 2.13 격납건물 외부에서 누설 시 보조건물 배수조 수위 증가"
   ]
  },
  {
   "cell_type": "markdown",
   "id": "6667bc54",
   "metadata": {},
   "source": [
    "### 2.14 격납건물 내부에서 누설 시 격납건물 배수조 수위 및 온도/습도 증가"
   ]
  },
  {
   "cell_type": "code",
   "execution_count": null,
   "id": "6b40eb06",
   "metadata": {},
   "outputs": [],
   "source": []
  }
 ],
 "metadata": {
  "kernelspec": {
   "display_name": "Python 3 (ipykernel)",
   "language": "python",
   "name": "python3"
  },
  "language_info": {
   "codemirror_mode": {
    "name": "ipython",
    "version": 3
   },
   "file_extension": ".py",
   "mimetype": "text/x-python",
   "name": "python",
   "nbconvert_exporter": "python",
   "pygments_lexer": "ipython3",
   "version": "3.7.4"
  }
 },
 "nbformat": 4,
 "nbformat_minor": 5
}
