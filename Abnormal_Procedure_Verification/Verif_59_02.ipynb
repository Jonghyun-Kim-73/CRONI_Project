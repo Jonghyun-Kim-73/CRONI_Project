{
 "cells": [
  {
   "cell_type": "markdown",
   "metadata": {},
   "source": [
    "# 비정상 절차서 59-02 : 충전수 유량조절밸브 후단누설"
   ]
  },
  {
   "cell_type": "markdown",
   "metadata": {},
   "source": [
    "경보 및 증상\n",
    "\n",
    "자동 동작사항\n",
    "\n",
    "긴급 조치사항\n",
    "\n",
    "후속 조치사항"
   ]
  },
  {
   "cell_type": "markdown",
   "metadata": {},
   "source": [
    "## 1.0 데이터 처리"
   ]
  },
  {
   "cell_type": "code",
   "execution_count": 26,
   "metadata": {},
   "outputs": [],
   "source": [
    "import pickle\n",
    "import matplotlib.pyplot as plt\n",
    "from collections import deque\n",
    "with open('D:/1.All_python_project/New_CNS_db/ab59_02_1042.pkl', 'rb') as f:\n",
    "    db = pickle.load(f)\n",
    "sym_ch = {0:deque(maxlen=5), 1:deque(maxlen=5), 2:deque(maxlen=5), 3:deque(maxlen=5), 4:deque(maxlen=5)\n",
    "         , 5:deque(maxlen=5),6:deque(maxlen=5), 7:deque(maxlen=5), 8:deque(maxlen=5), 9:deque(maxlen=5)\n",
    "         , 10:deque(maxlen=5)}"
   ]
  },
  {
   "cell_type": "markdown",
   "metadata": {},
   "source": [
    "## 2.0 경보 및 증상"
   ]
  },
  {
   "cell_type": "markdown",
   "metadata": {},
   "source": [
    "### 2.1 CHG FLOW CONT FLOW HI/LO(JP005)"
   ]
  },
  {
   "cell_type": "code",
   "execution_count": 60,
   "metadata": {
    "scrolled": true
   },
   "outputs": [
    {
     "data": {
      "image/png": "[encoded data removed]",
      "text/plain": [
       "<Figure size 432x288 with 1 Axes>"
      ]
     },
     "metadata": {
      "needs_background": "light"
     },
     "output_type": "display_data"
    }
   ],
   "source": [
    "# KLAMPO266 :ALARM: CHARGING FLOW CONT FLOW LOW(5 M3/HR) \n",
    "# WCHGNO : NORMAL CHARGING FLOW. (지시계변수)\n",
    "# ZINST39 : CHARGING FLOW \n",
    "# CWCHGL : NORMAL CHARGING FLOW LOW SETPOINT\n",
    "plt.plot(db['WCHGNO'], color='r')\n",
    "plt.plot(db['CWCHGL'], color='y')\n",
    "vline = plt.axvline(29, color='b', linestyle='--', linewidth=1)"
   ]
  },
  {
   "cell_type": "code",
   "execution_count": 24,
   "metadata": {
    "scrolled": true
   },
   "outputs": [
    {
     "name": "stdout",
     "output_type": "stream",
     "text": [
      "최초 CHG FLOW CONT FLOW HI/LO 경보 시간 : 31초\n"
     ]
    }
   ],
   "source": [
    "charging_flow = []\n",
    "for i in range(len(db)):\n",
    "    if i > 29:\n",
    "        if db['WCHGNO'][i] < db['CWCHGL'][i]:\n",
    "            charging_flow.append(i+1)\n",
    "if len(charging_flow) == 0:\n",
    "    print('증상을 만족하지 못했습니다.')\n",
    "else:\n",
    "    print(f'최초 CHG FLOW CONT FLOW HI/LO 경보 시간 : {charging_flow[0]}초')"
   ]
  },
  {
   "cell_type": "markdown",
   "metadata": {},
   "source": [
    "#### Report\n",
    "WCHGNO : NORMAL CHARGING FLOW.\n",
    "\n",
    "ZINST39 : CHARGING FLOW \n",
    "\n",
    "둘다 경보 조건 만족함. 그러나, 두 변수의 단위가 다름 어떤 변수를 사용해야 할지 확인 필요."
   ]
  },
  {
   "cell_type": "markdown",
   "metadata": {},
   "source": [
    "### 2.2 PRZR CONT LEVEL LOW DEVIATION(JP006)"
   ]
  },
  {
   "cell_type": "markdown",
   "metadata": {},
   "source": [
    "관련 경보 확인 불가"
   ]
  },
  {
   "cell_type": "markdown",
   "metadata": {},
   "source": [
    "### 2.3 VOL CONT TK LEVEL HIGH/LOW(JP005)"
   ]
  },
  {
   "cell_type": "code",
   "execution_count": 25,
   "metadata": {
    "scrolled": true
   },
   "outputs": [
    {
     "data": {
      "image/png": "[encoded data removed]",
      "text/plain": [
       "<Figure size 432x288 with 1 Axes>"
      ]
     },
     "metadata": {
      "needs_background": "light"
     },
     "output_type": "display_data"
    }
   ],
   "source": [
    "# KLAMPO271\n",
    "# ZVCT\n",
    "# CZVCT6\n",
    "plt.plot(db['ZVCT'], color='r')\n",
    "plt.plot(db['CZVCT6'], color='y')\n",
    "vline = plt.axvline(29, color='b', linestyle='--', linewidth=1)"
   ]
  },
  {
   "cell_type": "code",
   "execution_count": 27,
   "metadata": {},
   "outputs": [
    {
     "name": "stdout",
     "output_type": "stream",
     "text": [
      "최초 VCT 수위 high 경보 시간 : 54초\n"
     ]
    }
   ],
   "source": [
    "vct_level = []\n",
    "for i in range(len(db)):\n",
    "    if i > 29:\n",
    "        if db['ZVCT'][i] > db['CZVCT6'][i]:\n",
    "            vct_level.append(i+1)\n",
    "if len(vct_level) == 0:\n",
    "    print('증상을 만족하지 못했습니다.')\n",
    "else:\n",
    "    print(f'최초 VCT 수위 high 경보 시간 : {vct_level[0]}초')"
   ]
  },
  {
   "cell_type": "markdown",
   "metadata": {},
   "source": [
    "### 2.4 REGEN HX LETDN LINE TEMP HIGH(JP005)"
   ]
  },
  {
   "cell_type": "markdown",
   "metadata": {},
   "source": [
    "둘 중에 어느 알람인 확인 필요\n",
    "1. L/D HX outlet temp hi\n",
    "2. RHX L/D outlet temp hi"
   ]
  },
  {
   "cell_type": "markdown",
   "metadata": {},
   "source": [
    "1. L/D HX outlet temp hi"
   ]
  },
  {
   "cell_type": "code",
   "execution_count": 39,
   "metadata": {},
   "outputs": [
    {
     "data": {
      "image/png": "[encoded data removed]",
      "text/plain": [
       "<Figure size 432x288 with 1 Axes>"
      ]
     },
     "metadata": {
      "needs_background": "light"
     },
     "output_type": "display_data"
    }
   ],
   "source": [
    "# KLAMPO261 :NRHX OUTLET TEMPERATURE\n",
    "# UNRHXUT : NRHX OUTLET TEMPERATURE.\n",
    "# CULDHX : L/D HX OUTLET TEMPERATURE HIGH SETPOINT\n",
    "plt.plot(db['UNRHXUT'], color='r')\n",
    "plt.plot(db['CULDHX'], color='y')\n",
    "vline = plt.axvline(29, color='b', linestyle='--', linewidth=1)"
   ]
  },
  {
   "cell_type": "code",
   "execution_count": 40,
   "metadata": {},
   "outputs": [
    {
     "name": "stdout",
     "output_type": "stream",
     "text": [
      "최초 재생열교환기 letdown line 온도 고 경보 시간 : 31초\n"
     ]
    }
   ],
   "source": [
    "line_temp = []\n",
    "for i in range(len(db)):\n",
    "    if i > 29:\n",
    "        if db['UNRHXUT'][i] > db['CULDHX'][i]:\n",
    "            line_temp.append(i+1)\n",
    "if len(line_temp) == 0:\n",
    "    print('증상을 만족하지 못했습니다.')\n",
    "else:\n",
    "    print(f'최초 재생열교환기 letdown line 온도 고 경보 시간 : {line_temp[0]}초')"
   ]
  },
  {
   "cell_type": "markdown",
   "metadata": {},
   "source": [
    "2. RHX L/D outlet temp hi"
   ]
  },
  {
   "cell_type": "code",
   "execution_count": 76,
   "metadata": {
    "scrolled": false
   },
   "outputs": [
    {
     "data": {
      "image/png": "[encoded data removed]",
      "text/plain": [
       "<Figure size 432x288 with 1 Axes>"
      ]
     },
     "metadata": {
      "needs_background": "light"
     },
     "output_type": "display_data"
    }
   ],
   "source": [
    "# KLAMPO262 :ALARM: RHX L/D OUTLET TEMP HIGH(202 DEG C)  \n",
    "# URHXUT : RHX OUTLET TEMPERATURE..\n",
    "# CURHX : RHX OUTLET TEMPERATURE HIGH SETPOINT\n",
    "plt.plot(db['URHXUT'], color='r')\n",
    "plt.plot(db['CURHX'], color='y')\n",
    "vline = plt.axvline(29, color='b', linestyle='--', linewidth=1)"
   ]
  },
  {
   "cell_type": "code",
   "execution_count": 43,
   "metadata": {},
   "outputs": [
    {
     "name": "stdout",
     "output_type": "stream",
     "text": [
      "증상을 만족하지 못했습니다.\n"
     ]
    }
   ],
   "source": [
    "line_temp_ = []\n",
    "for i in range(len(db)):\n",
    "    if i > 29:\n",
    "        if db['URHXUT'][i] > db['CURHX'][i]:\n",
    "            line_temp_.append(i+1)\n",
    "if len(line_temp_) == 0:\n",
    "    print('증상을 만족하지 못했습니다.')\n",
    "else:\n",
    "    print(f'최초 재생열교환기 letdown line 온도 고 경보 시간 : {line_temp_[0]}초')"
   ]
  },
  {
   "cell_type": "markdown",
   "metadata": {},
   "source": [
    "REGEN HX LETDN LINE TEMP HIGH(JP005)알람에 해당하는 경보가 어느 것인지 확인이 필요할 것으로 보입니다."
   ]
  },
  {
   "cell_type": "markdown",
   "metadata": {},
   "source": [
    "### 2.5 RCP SEAL INJ WTR FLOW LOW(JP005) => 불만족"
   ]
  },
  {
   "cell_type": "code",
   "execution_count": 50,
   "metadata": {},
   "outputs": [
    {
     "data": {
      "image/png": "[encoded data removed]",
      "text/plain": [
       "<Figure size 432x288 with 1 Axes>"
      ]
     },
     "metadata": {
      "needs_background": "light"
     },
     "output_type": "display_data"
    }
   ],
   "source": [
    "# KLAMPO265 : ALARM: RCP SEAL INJ WTR FLOW LOW(1.4 M3/HR)  \n",
    "# WRCPSI1 : SEAL INJECTION FLOW TO RCP #1\n",
    "# WRCPSI2 : SEAL INJECTION FLOW TO RCP #2\n",
    "# WRCPSI3 : SEAL INJECTION FLOW TO RCP #3\n",
    "# CWRCPS : RCP SEAL INJECTION FLOW LOW SETPOINT\n",
    "plt.plot(db['WRCPSI1'], color='r')\n",
    "plt.plot(db['WRCPSI2'], color='r')\n",
    "plt.plot(db['WRCPSI3'], color='r')\n",
    "plt.plot(db['CWRCPS'], color='y')\n",
    "vline = plt.axvline(29, color='b', linestyle='--', linewidth=1)"
   ]
  },
  {
   "cell_type": "code",
   "execution_count": 51,
   "metadata": {},
   "outputs": [
    {
     "name": "stdout",
     "output_type": "stream",
     "text": [
      "0       0.4\n",
      "1       0.4\n",
      "2       0.4\n",
      "3       0.4\n",
      "4       0.4\n",
      "       ... \n",
      "1795    0.4\n",
      "1796    0.4\n",
      "1797    0.4\n",
      "1798    0.4\n",
      "1799    0.4\n",
      "Name: CWRCPS, Length: 1800, dtype: float64\n"
     ]
    }
   ],
   "source": [
    "print(db['CWRCPS'])"
   ]
  },
  {
   "cell_type": "markdown",
   "metadata": {},
   "source": [
    "※ 알람 setpoint가 1.4 M3/HR이나 CWRCPS변수치는 0.4를 나타낸다. (단위 확인)\n",
    "\n",
    "1 cubic meter per hour ≈ 4.4029 gallons per minute. (계산결과 다름)"
   ]
  },
  {
   "cell_type": "code",
   "execution_count": 52,
   "metadata": {},
   "outputs": [
    {
     "data": {
      "image/png": "[encoded data removed]",
      "text/plain": [
       "<Figure size 432x288 with 1 Axes>"
      ]
     },
     "metadata": {
      "needs_background": "light"
     },
     "output_type": "display_data"
    }
   ],
   "source": [
    "plt.plot(db['KLAMPO265'], color='y')\n",
    "vline = plt.axvline(29, color='b', linestyle='--', linewidth=1)"
   ]
  },
  {
   "cell_type": "code",
   "execution_count": 49,
   "metadata": {},
   "outputs": [
    {
     "name": "stdout",
     "output_type": "stream",
     "text": [
      "증상을 만족하지 못했습니다.\n"
     ]
    }
   ],
   "source": [
    "rcp_seal = []\n",
    "for i in range(len(db)):\n",
    "    if i > 29:\n",
    "        if db['WRCPSI1'][i] < db['CWRCPS'][i] or db['WRCPSI2'][i] < db['CWRCPS'][i] or db['WRCPSI3'][i] < db['CWRCPS'][i]:\n",
    "            rcp_seal.append(i+1)\n",
    "if len(rcp_seal) == 0:\n",
    "    print('증상을 만족하지 못했습니다.')\n",
    "else:\n",
    "    print(f'최초 RCP SEAL INJ WTR FLOW LOW 경보 발생 시간 : {rcp_seal[0]}초')"
   ]
  },
  {
   "cell_type": "markdown",
   "metadata": {},
   "source": [
    "### 2.6 1E RAD WARN ＆ HIGH ALARM(JP004)\n",
    "NON-1E RAD WARN ＆ HIGH ALARM(JP004) \n",
    "(격납건물:GT-RE001/002/119/211/132/133/220  JP014)\n",
    "(보조건물:GL-RE015/069/087  JP014)"
   ]
  },
  {
   "cell_type": "markdown",
   "metadata": {},
   "source": [
    "관련 경보 확인불가."
   ]
  },
  {
   "cell_type": "markdown",
   "metadata": {},
   "source": [
    "### 2.7 충전유량 지시계 지시치 증가(BG-FI122A  JP001)"
   ]
  },
  {
   "cell_type": "code",
   "execution_count": 62,
   "metadata": {},
   "outputs": [
    {
     "data": {
      "image/png": "[encoded data removed]",
      "text/plain": [
       "<Figure size 432x288 with 1 Axes>"
      ]
     },
     "metadata": {
      "needs_background": "light"
     },
     "output_type": "display_data"
    }
   ],
   "source": [
    "# WCHGNO : NORMAL CHARGING FLOW (지시계변수)\n",
    "plt.plot(db['WCHGNO'], color='y')\n",
    "vline = plt.axvline(29, color='b', linestyle='--', linewidth=1)"
   ]
  },
  {
   "cell_type": "markdown",
   "metadata": {},
   "source": [
    "CNS상 추전유량 지시치가 증가하는것으로 확인.\n",
    "\n",
    "data상으로는 위의 그래프와 같은 형상을 나타냄\n",
    "\n",
    "데이터 확인이 필요함."
   ]
  },
  {
   "cell_type": "markdown",
   "metadata": {},
   "source": [
    "### 2.8 가압기 수위 지시계 지시치 감소(BB-LI459A/460/461/460B  JP001/005) "
   ]
  },
  {
   "cell_type": "code",
   "execution_count": 64,
   "metadata": {},
   "outputs": [
    {
     "data": {
      "image/png": "[encoded data removed]",
      "text/plain": [
       "<Figure size 432x288 with 1 Axes>"
      ]
     },
     "metadata": {
      "needs_background": "light"
     },
     "output_type": "display_data"
    }
   ],
   "source": [
    "# ZINST63 : 가압기 수위\n",
    "plt.plot(db['ZINST63'], color='y')\n",
    "vline = plt.axvline(29, color='b', linestyle='--', linewidth=1)"
   ]
  },
  {
   "cell_type": "code",
   "execution_count": 66,
   "metadata": {},
   "outputs": [
    {
     "name": "stdout",
     "output_type": "stream",
     "text": [
      "최초 가압기 수위 증가 시간 : 35초\n"
     ]
    }
   ],
   "source": [
    "pzr_level = []\n",
    "for i in range(len(db)):\n",
    "    if i > 29:\n",
    "        sym_ch[0].append(db['ZINST63'][i])\n",
    "        if len(sym_ch[0]) == 5:\n",
    "            if sym_ch[0][0] > sym_ch[0][1] > sym_ch[0][2]:\n",
    "                pzr_level.append(i+1)\n",
    "if len(pzr_level) == 0:\n",
    "    print('증상을 만족하지 못했습니다.')\n",
    "else:\n",
    "    print(f'최초 가압기 수위 증가 시간 : {pzr_level[0]}초')"
   ]
  },
  {
   "cell_type": "markdown",
   "metadata": {},
   "source": [
    "### 2.9 체적제어탱크 수위 지시계 지시치 감소(BG-LI115/112A  JP001/005)"
   ]
  },
  {
   "cell_type": "code",
   "execution_count": 8,
   "metadata": {},
   "outputs": [
    {
     "data": {
      "image/png": "[encoded data removed]",
      "text/plain": [
       "<Figure size 432x288 with 1 Axes>"
      ]
     },
     "metadata": {
      "needs_background": "light"
     },
     "output_type": "display_data"
    }
   ],
   "source": [
    "# ZVCT : VCT 수위\n",
    "plt.plot(db['ZVCT'], color='r')\n",
    "vline = plt.axvline(29, color='b', linestyle='--', linewidth=1)"
   ]
  },
  {
   "cell_type": "code",
   "execution_count": 70,
   "metadata": {},
   "outputs": [
    {
     "name": "stdout",
     "output_type": "stream",
     "text": [
      "증상을 만족하지 못했습니다.\n"
     ]
    }
   ],
   "source": [
    "vct_level = []\n",
    "for i in range(len(db)):\n",
    "    if i > 29:\n",
    "        sym_ch[2].append(db['ZVCT'][i])\n",
    "        if len(sym_ch[1]) == 5:\n",
    "            if sym_ch[1][0] > sym_ch[1][1] > sym_ch[1][2]:\n",
    "                vct_level.append(i+1)\n",
    "if len(vct_level) == 0:\n",
    "    print('증상을 만족하지 못했습니다.')\n",
    "else:\n",
    "    print(f'최초 체적제어탱크 수위감소 시간 : {vct_level[0]}초')"
   ]
  },
  {
   "cell_type": "markdown",
   "metadata": {},
   "source": [
    "### 2.10 재생 열교환기 후단 유출수 온도 지시계 지시치 증가(BG-TI140  JP001) (재생 열교환기 전단 충전수 관로 누설시)"
   ]
  },
  {
   "cell_type": "code",
   "execution_count": 9,
   "metadata": {
    "scrolled": true
   },
   "outputs": [
    {
     "data": {
      "image/png": "[encoded data removed]",
      "text/plain": [
       "<Figure size 432x288 with 1 Axes>"
      ]
     },
     "metadata": {
      "needs_background": "light"
     },
     "output_type": "display_data"
    }
   ],
   "source": [
    "# UCHGUT : CHARGING LINE OUTLET TEMPERATURE\n",
    "plt.plot(db['UCHGUT'], color='r')\n",
    "vline = plt.axvline(29, color='b', linestyle='--', linewidth=1)"
   ]
  },
  {
   "cell_type": "code",
   "execution_count": 22,
   "metadata": {},
   "outputs": [
    {
     "name": "stdout",
     "output_type": "stream",
     "text": [
      "증상을 만족하지 못했습니다.\n"
     ]
    }
   ],
   "source": [
    "outlet_temp = []\n",
    "for i in range(len(db)):\n",
    "    if i > 29:\n",
    "        sym_ch[2].append(db['UCHGUT'][i])\n",
    "        if len(sym_ch[2]) == 5:\n",
    "            if sym_ch[2][0] < sym_ch[2][1] < sym_ch[2][2]:\n",
    "                outlet_temp.append(i+1)\n",
    "if len(outlet_temp) == 0:\n",
    "    print('증상을 만족하지 못했습니다.')\n",
    "else:\n",
    "    print(f'최초 재생 열교환기 후단 유출수 온도 지시계 지시치 증가 시간 : {outlet_temp[0]}초')"
   ]
  },
  {
   "cell_type": "markdown",
   "metadata": {},
   "source": [
    "### 2.11 재생 열교환기 후단 충전수 온도 지시계 지시치 감소(BG-TI123  JP001) (재생 열교환기 후단 충전수 관로 누설시)   "
   ]
  },
  {
   "cell_type": "code",
   "execution_count": 14,
   "metadata": {
    "scrolled": true
   },
   "outputs": [
    {
     "data": {
      "image/png": "[encoded data removed]",
      "text/plain": [
       "<Figure size 432x288 with 1 Axes>"
      ]
     },
     "metadata": {
      "needs_background": "light"
     },
     "output_type": "display_data"
    }
   ],
   "source": [
    "# UCHGUT : CHARGING LINE OUTLET TEMPERATURE\n",
    "plt.plot(db['UCHGUT'].iloc[:40], color='r')\n",
    "vline = plt.axvline(29, color='b', linestyle='--', linewidth=1)"
   ]
  },
  {
   "cell_type": "code",
   "execution_count": 23,
   "metadata": {},
   "outputs": [
    {
     "name": "stdout",
     "output_type": "stream",
     "text": [
      "증상을 만족하지 못했습니다.\n"
     ]
    }
   ],
   "source": [
    "outlet_temp_ = []\n",
    "for i in range(len(db)):\n",
    "    if i > 29:\n",
    "        sym_ch[2].append(db['UCHGUT'][i])\n",
    "        if len(sym_ch[3]) == 5:\n",
    "            if sym_ch[3][0] > sym_ch[3][1] > sym_ch[3][2]:\n",
    "                outlet_temp_.append(i+1)\n",
    "if len(outlet_temp_) == 0:\n",
    "    print('증상을 만족하지 못했습니다.')\n",
    "else:\n",
    "    print(f'최초 재생 열교환기 후단 유출수 온도 지시계 지시치 감소 시간 : {outlet_temp_[0]}초')"
   ]
  },
  {
   "cell_type": "markdown",
   "metadata": {},
   "source": [
    "mal function 주입시간 확인이 필요한 것으로 보입니다.\n",
    "\n",
    "20초부터 급격한 감소"
   ]
  },
  {
   "cell_type": "markdown",
   "metadata": {},
   "source": [
    "### 2.12 RCP 밀봉수 주입유량 지시계 지시치 감소(BG-FR154A/155A/156A  JP005)"
   ]
  },
  {
   "cell_type": "code",
   "execution_count": 16,
   "metadata": {
    "scrolled": true
   },
   "outputs": [
    {
     "data": {
      "image/png": "[encoded data removed]",
      "text/plain": [
       "<Figure size 432x288 with 1 Axes>"
      ]
     },
     "metadata": {
      "needs_background": "light"
     },
     "output_type": "display_data"
    }
   ],
   "source": [
    "# WRCPSI1 : SEAL INJECTION FLOW TO RCP #1\n",
    "# WRCPSI2 : SEAL INJECTION FLOW TO RCP #2\n",
    "# WRCPSI3 : SEAL INJECTION FLOW TO RCP #3\n",
    "plt.plot(db['WRCPSI1'], color='r')\n",
    "plt.plot(db['WRCPSI2'], color='k')\n",
    "plt.plot(db['WRCPSI3'], color='g')\n",
    "vline = plt.axvline(29, color='b', linestyle='--', linewidth=1)"
   ]
  },
  {
   "cell_type": "code",
   "execution_count": 24,
   "metadata": {},
   "outputs": [
    {
     "name": "stdout",
     "output_type": "stream",
     "text": [
      "증상을 만족하지 못했습니다.\n"
     ]
    }
   ],
   "source": [
    "seal_flow_ = []\n",
    "for i in range(len(db)):\n",
    "    if i > 29:\n",
    "        sym_ch[4].append(db['WRCPSI1'][i])\n",
    "        sym_ch[5].append(db['WRCPSI2'][i])\n",
    "        sym_ch[6].append(db['WRCPSI3'][i])\n",
    "        if len(sym_ch[4]) == 5:\n",
    "            if sym_ch[4][0] > sym_ch[4][1] > sym_ch[4][2]:\n",
    "                seal_flow_.append(i+1)\n",
    "            elif sym_ch[5][0] > sym_ch[5][1] > sym_ch[5][2]:\n",
    "                seal_flow_.append(i+1)\n",
    "            elif sym_ch[6][0] > sym_ch[6][1] > sym_ch[6][2]:\n",
    "                seal_flow_.append(i+1)            \n",
    "if len(seal_flow_) == 0:\n",
    "    print('증상을 만족하지 못했습니다.')\n",
    "else:\n",
    "    print(f'최초 RCP seal 주입유량 지시계 지시치 감소 시간 : {seal_flow_[0]}초')"
   ]
  },
  {
   "cell_type": "markdown",
   "metadata": {},
   "source": [
    "### 2.13 격납건물 외부에서 누설 시 보조건물 배수조 수위 증가"
   ]
  },
  {
   "cell_type": "code",
   "execution_count": 26,
   "metadata": {
    "scrolled": true
   },
   "outputs": [
    {
     "data": {
      "image/png": "[encoded data removed]",
      "text/plain": [
       "<Figure size 432x288 with 1 Axes>"
      ]
     },
     "metadata": {
      "needs_background": "light"
     },
     "output_type": "display_data"
    }
   ],
   "source": [
    "# ZSUMP : 배수조 수위\n",
    "plt.plot(db['ZSUMP'], color='k')\n",
    "vline = plt.axvline(29, color='b', linestyle='--', linewidth=1)"
   ]
  },
  {
   "cell_type": "code",
   "execution_count": 25,
   "metadata": {},
   "outputs": [
    {
     "name": "stdout",
     "output_type": "stream",
     "text": [
      "증상을 만족하지 못했습니다.\n"
     ]
    }
   ],
   "source": [
    "sump_level = []\n",
    "for i in range(len(db)):\n",
    "    if i > 29:\n",
    "        sym_ch[7].append(db['ZSUMP'][i])\n",
    "        if len(sym_ch[7]) == 5:\n",
    "            if sym_ch[7][0] < sym_ch[7][1] < sym_ch[7][2]:\n",
    "                sump_level.append(i+1)\n",
    "if len(sump_level) == 0:\n",
    "    print('증상을 만족하지 못했습니다.')\n",
    "else:\n",
    "    print(f'최초 보조건물 배수조 수위 증가 시간 : {sump_level[0]}초')"
   ]
  },
  {
   "cell_type": "markdown",
   "metadata": {},
   "source": [
    "### 2.14 격납건물 내부에서 누설 시 격납건물 배수조 수위 및 온도/습도 증가"
   ]
  },
  {
   "cell_type": "code",
   "execution_count": 30,
   "metadata": {},
   "outputs": [
    {
     "data": {
      "image/png": "[encoded data removed]",
      "text/plain": [
       "<Figure size 432x288 with 1 Axes>"
      ]
     },
     "metadata": {
      "needs_background": "light"
     },
     "output_type": "display_data"
    }
   ],
   "source": [
    "# UCTMT : 격납건물 온도\n",
    "# HUCTMT : 격납건물 습도\n",
    "# ZSUMP : 배수조 수위\n",
    "plt.plot(db['ZSUMP'], color='r')\n",
    "plt.plot(db['UCTMT'], color='k')\n",
    "plt.plot(db['HUCTMT'], color='g')\n",
    "vline = plt.axvline(29, color='b', linestyle='--', linewidth=1)"
   ]
  },
  {
   "cell_type": "code",
   "execution_count": 33,
   "metadata": {},
   "outputs": [
    {
     "name": "stdout",
     "output_type": "stream",
     "text": [
      "증상을 만족하지 못했습니다.\n"
     ]
    }
   ],
   "source": [
    "temp_humidity = []\n",
    "for i in range(len(db)):\n",
    "    if i > 29:\n",
    "        sym_ch[8].append(db['UCTMT'][i])\n",
    "        sym_ch[9].append(db['HUCTMT'][i])\n",
    "        if len(sym_ch[7]) == 5:\n",
    "            if sym_ch[7][0] < sym_ch[7][1] < sym_ch[7][2] and sym_ch[8][0] < sym_ch[8][1] < sym_ch[8][2] and sym_ch[9][0] < sym_ch[9][1] < sym_ch[9][2]:\n",
    "                temp_humidity.append(i+1)\n",
    "if len(temp_humidity) == 0:\n",
    "    print('증상을 만족하지 못했습니다.')\n",
    "else:\n",
    "    print(f'최초 보조건물 배수조 수위 및 온도/습도 증가 시간 : {temp_humidity[0]}초')"
   ]
  },
  {
   "cell_type": "markdown",
   "metadata": {},
   "source": [
    "## 3.0 자동동작사항"
   ]
  },
  {
   "cell_type": "markdown",
   "metadata": {},
   "source": [
    "### 3.1 가압기 수위지시계 및 기록계(BB-LI459A/460, BB-LR459) 지시치 17%이하로 감소되면 다음과 같은 자동 동작이 발생한다."
   ]
  },
  {
   "cell_type": "code",
   "execution_count": 6,
   "metadata": {},
   "outputs": [
    {
     "data": {
      "image/png": "[encoded data removed]",
      "text/plain": [
       "<Figure size 432x288 with 1 Axes>"
      ]
     },
     "metadata": {
      "needs_background": "light"
     },
     "output_type": "display_data"
    }
   ],
   "source": [
    "# ZINST63\n",
    "plt.plot(db['ZINST63'], color='r')\n",
    "vline = plt.axhline(17, color='y', linestyle='--', linewidth=1)\n",
    "vline = plt.axvline(29, color='b', linestyle='--', linewidth=1)"
   ]
  },
  {
   "cell_type": "code",
   "execution_count": 10,
   "metadata": {},
   "outputs": [
    {
     "name": "stdout",
     "output_type": "stream",
     "text": [
      "최초 가압기 주위지시계 지시치 17% 이하로 감소 시간 : 1529초\n"
     ]
    }
   ],
   "source": [
    "low_level = []\n",
    "for i in range(len(db)):\n",
    "    if i > 29:\n",
    "        if db['ZINST63'][i] < 17:\n",
    "            low_level.append(i+1)\n",
    "if len(low_level) == 0:\n",
    "    print('증상을 만족하지 못했습니다.')\n",
    "else:\n",
    "    print(f'최초 가압기 주위지시계 지시치 17% 이하로 감소 시간 : {low_level[0]}초')"
   ]
  },
  {
   "cell_type": "markdown",
   "metadata": {},
   "source": [
    "### 3.1.1 모든 가압기 전열기 꺼짐(OFF)"
   ]
  },
  {
   "cell_type": "code",
   "execution_count": 13,
   "metadata": {},
   "outputs": [
    {
     "data": {
      "image/png": "[encoded data removed]",
      "text/plain": [
       "<Figure size 432x288 with 1 Axes>"
      ]
     },
     "metadata": {
      "needs_background": "light"
     },
     "output_type": "display_data"
    }
   ],
   "source": [
    "# QPRZB :  back-up heaters power.\n",
    "plt.plot(db['QPRZB'], color='k')\n",
    "vline = plt.axvline(29, color='b', linestyle='--', linewidth=1)"
   ]
  },
  {
   "cell_type": "markdown",
   "metadata": {},
   "source": [
    "꺼졌다 켜졌다 반복합니다. 최종적으로 꺼졌을때의 시간을 측정할 방법을 확인할 필요가 있습니다."
   ]
  },
  {
   "cell_type": "markdown",
   "metadata": {},
   "source": [
    "### 3.1.2 유출수 오리피스차단밸브(BG-HV1/2/3) 자동 닫힘"
   ]
  },
  {
   "cell_type": "code",
   "execution_count": 18,
   "metadata": {
    "scrolled": true
   },
   "outputs": [
    {
     "data": {
      "image/png": "[encoded data removed]",
      "text/plain": [
       "<Figure size 432x288 with 1 Axes>"
      ]
     },
     "metadata": {
      "needs_background": "light"
     },
     "output_type": "display_data"
    }
   ],
   "source": [
    "# BHV3\n",
    "plt.plot(db['BHV1'], color='r')\n",
    "plt.plot(db['BHV2'], color='g')\n",
    "plt.plot(db['BHV3'], color='k')\n",
    "vline = plt.axvline(29, color='b', linestyle='--', linewidth=1)"
   ]
  },
  {
   "cell_type": "code",
   "execution_count": 19,
   "metadata": {},
   "outputs": [
    {
     "name": "stdout",
     "output_type": "stream",
     "text": [
      "유출수 오리피스차단밸브 닫힘 시간 : 1533초\n"
     ]
    }
   ],
   "source": [
    "ld_valve = []\n",
    "for i in range(len(db)):\n",
    "    if i > 29:\n",
    "        if db['BHV1'][i] == 0 and db['BHV2'][i] == 0 and db['BHV3'][i] == 0:\n",
    "            ld_valve.append(i+1)\n",
    "if len(ld_valve) == 0:\n",
    "    print('증상을 만족하지 못했습니다.')\n",
    "else:\n",
    "    print(f'유출수 오리피스차단밸브 닫힘 시간 : {ld_valve[0]}초')"
   ]
  },
  {
   "cell_type": "markdown",
   "metadata": {},
   "source": [
    "### 3.1.3 유출수 차단밸브(BG-LV459/460) 자동 닫힘"
   ]
  },
  {
   "cell_type": "code",
   "execution_count": 20,
   "metadata": {
    "scrolled": true
   },
   "outputs": [
    {
     "data": {
      "image/png": "[encoded data removed]",
      "text/plain": [
       "<Figure size 432x288 with 1 Axes>"
      ]
     },
     "metadata": {
      "needs_background": "light"
     },
     "output_type": "display_data"
    }
   ],
   "source": [
    "# BLV459\n",
    "plt.plot(db['BLV459'], color='k')\n",
    "vline = plt.axvline(29, color='b', linestyle='--', linewidth=1)"
   ]
  },
  {
   "cell_type": "code",
   "execution_count": 21,
   "metadata": {},
   "outputs": [
    {
     "name": "stdout",
     "output_type": "stream",
     "text": [
      "유출수 차단밸브 닫힘 시간 : 1543초\n"
     ]
    }
   ],
   "source": [
    "ld_relf_valve = []\n",
    "for i in range(len(db)):\n",
    "    if i > 29:\n",
    "        if db['BLV459'][i] == 0:\n",
    "            ld_relf_valve.append(i+1)\n",
    "if len(ld_relf_valve) == 0:\n",
    "    print('증상을 만족하지 못했습니다.')\n",
    "else:\n",
    "    print(f'유출수 차단밸브 닫힘 시간 : {ld_relf_valve[0]}초')"
   ]
  },
  {
   "cell_type": "markdown",
   "metadata": {},
   "source": [
    "### 3.1.4 충전수 유량 조절밸브(BG-FV122) 완전 열림"
   ]
  },
  {
   "cell_type": "code",
   "execution_count": 22,
   "metadata": {
    "scrolled": true
   },
   "outputs": [
    {
     "data": {
      "image/png": "[encoded data removed]",
      "text/plain": [
       "<Figure size 432x288 with 1 Axes>"
      ]
     },
     "metadata": {
      "needs_background": "light"
     },
     "output_type": "display_data"
    }
   ],
   "source": [
    "# BFV122\n",
    "plt.plot(db['BFV122'], color='k')\n",
    "vline = plt.axvline(29, color='b', linestyle='--', linewidth=1)"
   ]
  },
  {
   "cell_type": "code",
   "execution_count": 24,
   "metadata": {},
   "outputs": [
    {
     "name": "stdout",
     "output_type": "stream",
     "text": [
      "충전수 유량 조절밸브 완전 열림 시간 : 257초\n"
     ]
    }
   ],
   "source": [
    "charging_flow_valve = []\n",
    "for i in range(len(db)):\n",
    "    if i > 29:\n",
    "        if db['BFV122'][i] == 1:\n",
    "            charging_flow_valve.append(i+1)\n",
    "if len(charging_flow_valve) == 0:\n",
    "    print('증상을 만족하지 못했습니다.')\n",
    "else:\n",
    "    print(f'충전수 유량 조절밸브 완전 열림 시간 : {charging_flow_valve[0]}초')"
   ]
  },
  {
   "cell_type": "markdown",
   "metadata": {},
   "source": [
    "### 3.1.5 유출수 열교환기 출구온도 증가에 따라 기기냉각수 조절밸브(EG-TV144) 서서히 열림"
   ]
  },
  {
   "cell_type": "markdown",
   "metadata": {},
   "source": [
    "해당 변수 확인 불가"
   ]
  },
  {
   "cell_type": "markdown",
   "metadata": {},
   "source": [
    "### 3.1.6 저압 유출수 압력조절밸브(BG-PV145) 자동 닫힘"
   ]
  },
  {
   "cell_type": "code",
   "execution_count": 25,
   "metadata": {
    "scrolled": true
   },
   "outputs": [
    {
     "data": {
      "image/png": "[encoded data removed]",
      "text/plain": [
       "<Figure size 432x288 with 1 Axes>"
      ]
     },
     "metadata": {
      "needs_background": "light"
     },
     "output_type": "display_data"
    }
   ],
   "source": [
    "# BPV145\n",
    "plt.plot(db['BPV145'], color='k')\n",
    "vline = plt.axvline(29, color='b', linestyle='--', linewidth=1)"
   ]
  },
  {
   "cell_type": "code",
   "execution_count": 30,
   "metadata": {},
   "outputs": [
    {
     "data": {
      "text/plain": [
       "50    0.648734\n",
       "51    0.648722\n",
       "52    0.648708\n",
       "53    0.648692\n",
       "54    0.648674\n",
       "55    0.648654\n",
       "56    0.648631\n",
       "57    0.648607\n",
       "58    0.648580\n",
       "59    0.648553\n",
       "60    0.648524\n",
       "61    0.648496\n",
       "62    0.648467\n",
       "63    0.648437\n",
       "64    0.648406\n",
       "65    0.648374\n",
       "66    0.648342\n",
       "67    0.648308\n",
       "68    0.648274\n",
       "69    0.648239\n",
       "70    0.648203\n",
       "71    0.648167\n",
       "72    0.648131\n",
       "73    0.648094\n",
       "74    0.648056\n",
       "75    0.648018\n",
       "76    0.647980\n",
       "77    0.647942\n",
       "78    0.647903\n",
       "79    0.647863\n",
       "Name: BPV145, dtype: float64"
      ]
     },
     "execution_count": 30,
     "metadata": {},
     "output_type": "execute_result"
    }
   ],
   "source": [
    "db['BPV145'].iloc[50:80]"
   ]
  },
  {
   "cell_type": "code",
   "execution_count": 31,
   "metadata": {},
   "outputs": [
    {
     "name": "stdout",
     "output_type": "stream",
     "text": [
      "충전수 유량 조절밸브 완전 열림 시간 : 1679초\n"
     ]
    }
   ],
   "source": [
    "ld_press_valve = []\n",
    "for i in range(len(db)):\n",
    "    if i > 29:\n",
    "        if db['BPV145'][i] <= 0.01:\n",
    "            ld_press_valve.append(i+1)\n",
    "if len(ld_press_valve) == 0:\n",
    "    print('증상을 만족하지 못했습니다.')\n",
    "else:\n",
    "    print(f'충전수 유량 조절밸브 완전 열림 시간 : {ld_press_valve[0]}초')"
   ]
  },
  {
   "cell_type": "markdown",
   "metadata": {},
   "source": [
    "충전수 유량 조절밸브FV122는 완전히 닫히지 않습니다."
   ]
  },
  {
   "cell_type": "markdown",
   "metadata": {},
   "source": [
    "### 3.1.7 원자로보충수계통의 빈번한 자동 동작"
   ]
  },
  {
   "cell_type": "markdown",
   "metadata": {},
   "source": [
    "## 4.0 긴급 조치사항"
   ]
  },
  {
   "cell_type": "markdown",
   "metadata": {},
   "source": [
    "### 4.1 원자로 보충수 제어선택스위치(BG-HS71)를 \"자동\"(AUTO)위치에 놓고 보충수 제어스위치(BG-HS70)를 \"시작\"(START) 위치에 놓아 체적제어탱크 수위를 정상상태로 회복시킨다. "
   ]
  },
  {
   "cell_type": "markdown",
   "metadata": {},
   "source": [
    "### 4.2 유출수 오리피스차단밸브(BG-HV1/BG-HV2/BG-HV3)를 닫고 유출수 차단밸브(BG-LV459/BG-LV460)를 닫음으로써  유출수를 차단한다."
   ]
  },
  {
   "cell_type": "markdown",
   "metadata": {},
   "source": [
    "### 4.3 충전수 차단밸브(BG-HV36/BG-HV37)를 닫는다."
   ]
  },
  {
   "cell_type": "markdown",
   "metadata": {},
   "source": [
    "### 4.4 충전수 유량조절 밸브(BG-FV122)를 서서히 닫는다."
   ]
  },
  {
   "cell_type": "markdown",
   "metadata": {},
   "source": [
    "### 4.5 초과 유출수 전환밸브(BG-HV43)를 \"VCT\"위치로 놓는다."
   ]
  },
  {
   "cell_type": "markdown",
   "metadata": {},
   "source": [
    "※ 주의사항 : 초과 유출수 조절밸브(BG-HV137)를 열 때는 원자로 냉각재 펌프의 밀봉계통으로의 배압효과 때문에 매우 서서히 열어야 한다."
   ]
  },
  {
   "cell_type": "markdown",
   "metadata": {},
   "source": [
    "### 4.6 초과 유출수 차단밸브(BG-HV41/BG-HV42)를 열고 초과 유출수 조절밸브(BG-HV137)를 서서히 열어 가압기 수위를 유지한다."
   ]
  },
  {
   "cell_type": "markdown",
   "metadata": {},
   "source": [
    "### 4.7 가압기 수위와 원자로 냉각재 펌프의 밀봉수 유량을 유지하기 위하여 초과 유출수 조절밸브(BG-HV137)를 수시로 조절한다."
   ]
  },
  {
   "cell_type": "markdown",
   "metadata": {},
   "source": [
    "### 4.8 원자로냉각재펌프 밀봉수 주입유량(BG-FR156A/155A/154A)이 각각 0.5～0.82ℓ/s가 되도록 밀봉수 주입유량 제어밸브(BG-HV186)를 조절한다."
   ]
  },
  {
   "cell_type": "markdown",
   "metadata": {},
   "source": [
    "### 4.9 방사선비상계획서의 비상 발령기준을 확인 후 필요한 조치를 한다."
   ]
  }
 ],
 "metadata": {
  "kernelspec": {
   "display_name": "Python 3",
   "language": "python",
   "name": "python3"
  },
  "language_info": {
   "codemirror_mode": {
    "name": "ipython",
    "version": 3
   },
   "file_extension": ".py",
   "mimetype": "text/x-python",
   "name": "python",
   "nbconvert_exporter": "python",
   "pygments_lexer": "ipython3",
   "version": "3.7.4"
  }
 },
 "nbformat": 4,
 "nbformat_minor": 5
}
