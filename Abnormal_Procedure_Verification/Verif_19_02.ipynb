{
 "cells": [
  {
   "cell_type": "markdown",
   "id": "2bc801a6",
   "metadata": {},
   "source": [
    "# 비정상 절차서 19-02 : 가압기 안전밸브(BB-PSV008/009/010) 고장"
   ]
  },
  {
   "cell_type": "markdown",
   "id": "20a59c67",
   "metadata": {},
   "source": [
    "경보 및 증상\n",
    "\n",
    "자동 동작사항\n",
    "\n",
    "긴급 조치사항\n",
    "\n",
    "후속 조치사항"
   ]
  },
  {
   "cell_type": "markdown",
   "id": "e8916ddd",
   "metadata": {},
   "source": [
    "## 1.0 데이터 처리"
   ]
  },
  {
   "cell_type": "code",
   "execution_count": 1,
   "id": "13bf08ad",
   "metadata": {},
   "outputs": [],
   "source": [
    "import pickle\n",
    "import matplotlib.pyplot as plt\n",
    "from collections import deque\n",
    "with open('D:/1.All_python_project/New_CNS_db/ab19_02_17_(348).pkl', 'rb') as f:\n",
    "    db = pickle.load(f)"
   ]
  },
  {
   "cell_type": "markdown",
   "id": "cc8b7737",
   "metadata": {},
   "source": [
    "## 2.0 경보 및 증상"
   ]
  },
  {
   "cell_type": "markdown",
   "id": "fed2274f",
   "metadata": {},
   "source": [
    "### 2.1 가압기 안전밸브 출구 고온 경보(주위온도＋10℃ : JP006)"
   ]
  },
  {
   "cell_type": "markdown",
   "id": "ef91092a",
   "metadata": {},
   "source": [
    "관련 경보 확인불가."
   ]
  },
  {
   "cell_type": "markdown",
   "id": "ff79c65b",
   "metadata": {},
   "source": [
    "### 2.2 가압기 안전밸브 출구온도 기록계 지시치 증가(BB-TR465 : JP005)"
   ]
  },
  {
   "cell_type": "markdown",
   "id": "97e079ee",
   "metadata": {},
   "source": [
    "계치시 변수 확인불가"
   ]
  },
  {
   "cell_type": "markdown",
   "id": "2a8e6c95",
   "metadata": {},
   "source": [
    "### 2.3 음향감시계기 주의 및 경보(주의 0.062Vrms, 경보 0.125Vrms : JP015)"
   ]
  },
  {
   "cell_type": "markdown",
   "id": "6c229756",
   "metadata": {},
   "source": [
    "관련 경보 확인불가."
   ]
  },
  {
   "cell_type": "markdown",
   "id": "2576486f",
   "metadata": {},
   "source": [
    "### 2.4 가압기 보조전열기 지시등 켜짐 및 경보(155.4㎏/㎠ : JP006)"
   ]
  },
  {
   "cell_type": "code",
   "execution_count": 2,
   "id": "2fa9bc97",
   "metadata": {
    "scrolled": true
   },
   "outputs": [
    {
     "data": {
      "image/png": "[encoded data removed]",
      "text/plain": [
       "<Figure size 432x288 with 1 Axes>"
      ]
     },
     "metadata": {
      "needs_background": "light"
     },
     "output_type": "display_data"
    }
   ],
   "source": [
    "# KLAMPO312 : ALARM: PRZ PRESS LOW BACK-UP HEATER ON(153.6 KG/CM2) \n",
    "# PPRZN : 가압기 압력\n",
    "# CQPRZB : 가압기 보조전열기 켜짐 SETPOINT\n",
    "# KBHON : 보조전열기 STATE\n",
    "plt.plot(db['PPRZN'], color='k')\n",
    "plt.plot(db['CQPRZB'], color='r')\n",
    "plt.plot(db['KBHON'], color='y')\n",
    "vline = plt.axvline(29, color='b', linestyle='--', linewidth=1)"
   ]
  },
  {
   "cell_type": "code",
   "execution_count": 3,
   "id": "30ca36f4",
   "metadata": {},
   "outputs": [
    {
     "name": "stdout",
     "output_type": "stream",
     "text": [
      "최초 가압기 보조전열기 지시등 켜짐 및 경보 시간 : 38초\n"
     ]
    }
   ],
   "source": [
    "heater_state = []\n",
    "for i in range(len(db)):\n",
    "    if i > 29:\n",
    "        if db['PPRZN'][i] < db['CQPRZB'][i] and db['KBHON'][i]:\n",
    "            heater_state.append(i+1)\n",
    "if len(heater_state) == 0:\n",
    "    print('증상을 만족하지 못했습니다.')\n",
    "else:\n",
    "    print(f'최초 가압기 보조전열기 지시등 켜짐 및 경보 시간 : {heater_state[0]}초')"
   ]
  },
  {
   "cell_type": "markdown",
   "id": "c090970c",
   "metadata": {},
   "source": [
    "### 2.5 가압기 저압경보(153.7㎏/㎠ : JP006)"
   ]
  },
  {
   "cell_type": "code",
   "execution_count": 4,
   "id": "0af0505e",
   "metadata": {
    "scrolled": true
   },
   "outputs": [
    {
     "data": {
      "image/png": "[encoded data removed]",
      "text/plain": [
       "<Figure size 432x288 with 1 Axes>"
      ]
     },
     "metadata": {
      "needs_background": "light"
     },
     "output_type": "display_data"
    }
   ],
   "source": [
    "# KLAMPO308 : ALARM: PRZ PRESS LOW ALERT(153.6 KG/CM2) \n",
    "# PPRZ : 가압기 압력\n",
    "# CPPRZL : PRZ PRESS LOW ALERT\n",
    "plt.plot(db['PPRZ'], color='r')\n",
    "plt.plot(db['CPPRZL'], color='y')\n",
    "vline = plt.axvline(29, color='b', linestyle='--', linewidth=1)"
   ]
  },
  {
   "cell_type": "code",
   "execution_count": 5,
   "id": "cd0abe8f",
   "metadata": {},
   "outputs": [
    {
     "name": "stdout",
     "output_type": "stream",
     "text": [
      "최초 가압기 저압력경보 시간 : 46초\n"
     ]
    }
   ],
   "source": [
    "pzr_press = []\n",
    "for i in range(len(db)):\n",
    "    if i > 29:\n",
    "        if db['PPRZ'][i] < db['CPPRZL'][i]:\n",
    "            pzr_press.append(i+1)\n",
    "if len(pzr_press) == 0:\n",
    "    print('증상을 만족하지 못했습니다.')\n",
    "else:\n",
    "    print(f'최초 가압기 저압력경보 시간 : {pzr_press[0]}초')"
   ]
  },
  {
   "cell_type": "markdown",
   "id": "5abc0150",
   "metadata": {},
   "source": [
    "### 2.6 가압기 압력방출밸브(PORV) 차단 경보(153.7㎏/㎠ : JP004)"
   ]
  },
  {
   "cell_type": "markdown",
   "id": "2ad1025c",
   "metadata": {},
   "source": [
    "### 2.7 가압기 압력방출탱크(PRT) 고압력 경보(0.6㎏/㎠ : JP006)"
   ]
  },
  {
   "cell_type": "markdown",
   "id": "0bb17fe4",
   "metadata": {},
   "source": [
    "### 2.8 가압기 압력방출탱크(PRT) 고온 경보(45℃ : JP006)"
   ]
  },
  {
   "cell_type": "markdown",
   "id": "a4a41345",
   "metadata": {},
   "source": [
    "### 2.9 가압기 압력방출탱크(PRT) 고수위 경보(85% : JP006)"
   ]
  },
  {
   "cell_type": "markdown",
   "id": "9a4b5c7d",
   "metadata": {},
   "source": [
    "### 2.10 가압기 수위 변화"
   ]
  },
  {
   "cell_type": "markdown",
   "id": "98d8639b",
   "metadata": {},
   "source": [
    "※ 참고사항 :  가압기 수위는 증가하는 것처럼 보일 수도 있다."
   ]
  },
  {
   "cell_type": "markdown",
   "id": "1ac80649",
   "metadata": {},
   "source": [
    "### 2.11 충전유량 증가(BG-FI122A : JP001)"
   ]
  },
  {
   "cell_type": "markdown",
   "id": "f1d963ec",
   "metadata": {},
   "source": [
    "### 2.12 체적제어탱크 수위감소 및 원자로보충수 보충횟수 증가"
   ]
  },
  {
   "cell_type": "code",
   "execution_count": null,
   "id": "1ea3b51e",
   "metadata": {},
   "outputs": [],
   "source": []
  },
  {
   "cell_type": "code",
   "execution_count": null,
   "id": "25f618f5",
   "metadata": {},
   "outputs": [],
   "source": []
  }
 ],
 "metadata": {
  "kernelspec": {
   "display_name": "Python 3 (ipykernel)",
   "language": "python",
   "name": "python3"
  },
  "language_info": {
   "codemirror_mode": {
    "name": "ipython",
    "version": 3
   },
   "file_extension": ".py",
   "mimetype": "text/x-python",
   "name": "python",
   "nbconvert_exporter": "python",
   "pygments_lexer": "ipython3",
   "version": "3.7.4"
  }
 },
 "nbformat": 4,
 "nbformat_minor": 5
}
