{
 "cells": [
  {
   "cell_type": "markdown",
   "id": "e45f30d8",
   "metadata": {},
   "source": [
    "# 비정상 절차서 60-02 : 재생열교환기 전단부위 파열"
   ]
  },
  {
   "cell_type": "markdown",
   "id": "7418e190",
   "metadata": {},
   "source": [
    "## 1.0 데이터 처리"
   ]
  },
  {
   "cell_type": "markdown",
   "id": "9ef53ff5",
   "metadata": {},
   "source": [
    "경보 및 증상\n",
    "\n",
    "자동 동작사항\n",
    "\n",
    "긴급 조치사항\n",
    "\n",
    "후속 조치사항"
   ]
  },
  {
   "cell_type": "code",
   "execution_count": 1,
   "id": "ef7409e2",
   "metadata": {},
   "outputs": [],
   "source": [
    "import pickle\n",
    "import matplotlib.pyplot as plt\n",
    "from collections import deque\n",
    "with open('D:/1.All_python_project/New_CNS_db/ab60_02_403.pkl', 'rb') as f:\n",
    "    db = pickle.load(f)\n",
    "sym_ch = {0:deque(maxlen=5), 1:deque(maxlen=5), 2:deque(maxlen=5), 3:deque(maxlen=5),\n",
    "          4:deque(maxlen=5), 5:deque(maxlen=5), 6:deque(maxlen=5), 7:deque(maxlen=5),\n",
    "          8:deque(maxlen=5), 9:deque(maxlen=5)}"
   ]
  },
  {
   "cell_type": "markdown",
   "id": "1e13765d",
   "metadata": {},
   "source": [
    "## 2.0 경보 및 증상"
   ]
  },
  {
   "cell_type": "markdown",
   "id": "2728cdc3",
   "metadata": {},
   "source": [
    "### 2.1 유출수 유량지시계(BG-FI150) 지시치 감소 및 유출수 열교환기 출구유량 ‘저’ 경보(15㎥/hr) 발생 => 만족"
   ]
  },
  {
   "cell_type": "code",
   "execution_count": 40,
   "id": "33b623fb",
   "metadata": {},
   "outputs": [
    {
     "data": {
      "image/png": "[encoded data removed]",
      "text/plain": [
       "<Figure size 432x288 with 1 Axes>"
      ]
     },
     "metadata": {
      "needs_background": "light"
     },
     "output_type": "display_data"
    }
   ],
   "source": [
    "# KLAMPO260 : ALARM: L/D HX OUTLET FLOW LOW(15 M3/HR) \n",
    "# WNETLD ; NET LETDOWN FLOW.\n",
    "# CWLHXL : 유출수 열교환기 출구유량 저 setpoint\n",
    "plt.plot(db['KLAMPO260'], color='k')\n",
    "plt.plot(db['WNETLD'], color='r')\n",
    "plt.plot(db['CWLHXL'], color='y')\n",
    "vline = plt.axvline(29, color='b', linestyle='--', linewidth=1)"
   ]
  },
  {
   "cell_type": "code",
   "execution_count": 41,
   "id": "bf4d75b6",
   "metadata": {},
   "outputs": [
    {
     "name": "stdout",
     "output_type": "stream",
     "text": [
      "최초 유출수 열교환기 출구유량 저 경보 증상 만족 시간 : 30초\n"
     ]
    }
   ],
   "source": [
    "let_down_flow = []\n",
    "for i in range(len(db)):\n",
    "    if db['WNETLD'][i] < db['CWLHXL'][i]:\n",
    "        let_down_flow.append(i+1)\n",
    "if len(let_down_flow) == 0:\n",
    "    print('증상을 만족하지 못했습니다.')\n",
    "else:\n",
    "    print(f'최초 유출수 열교환기 출구유량 저 경보 증상 만족 시간 : {let_down_flow[0]}초')"
   ]
  },
  {
   "cell_type": "markdown",
   "id": "069e4f65",
   "metadata": {},
   "source": [
    "Report\n",
    "1. KLAMPO260 로직 확인 필요 ; \n",
    "2. 유출수 유량지시계 관련 변수 확인 필요"
   ]
  },
  {
   "cell_type": "markdown",
   "id": "9723ca2e",
   "metadata": {},
   "source": [
    "### 2.2 VCT 수위지시계(BG-LI112A/LI115) 지시치 감소 및 다음 증상 발생 => 만족"
   ]
  },
  {
   "cell_type": "code",
   "execution_count": 42,
   "id": "d392a94b",
   "metadata": {
    "scrolled": true
   },
   "outputs": [
    {
     "data": {
      "image/png": "[encoded data removed]",
      "text/plain": [
       "<Figure size 432x288 with 1 Axes>"
      ]
     },
     "metadata": {
      "needs_background": "light"
     },
     "output_type": "display_data"
    }
   ],
   "source": [
    "# ZVCT : VCT 수위\n",
    "plt.plot(db['ZVCT'], color='k') # -> 수위 감소 확인\n",
    "vline = plt.axvline(29, color='b', linestyle='--', linewidth=1)"
   ]
  },
  {
   "cell_type": "code",
   "execution_count": 43,
   "id": "47b7b592",
   "metadata": {},
   "outputs": [
    {
     "name": "stdout",
     "output_type": "stream",
     "text": [
      "최초 수위 감소 증상 만족 시간 : 35초\n"
     ]
    }
   ],
   "source": [
    "vct_level = []\n",
    "for i in range(len(db)):\n",
    "    if i > 29:\n",
    "        sym_ch[0].append(db['ZVCT'][i])\n",
    "    if len(sym_ch[0]) == 5:\n",
    "        if sym_ch[0][0] > sym_ch[0][1] > sym_ch[0][2] > sym_ch[0][3] > sym_ch[0][4]:\n",
    "            vct_level.append(i+1)\n",
    "#             print(f'수위 감소 증상 만족 시간 : {i+1}초')\n",
    "print(f'최초 수위 감소 증상 만족 시간 : {vct_level[0]}초')"
   ]
  },
  {
   "cell_type": "markdown",
   "id": "be9ca49c",
   "metadata": {},
   "source": [
    "### 2.2.1 VCT 수위 30% 이하시 원자로보충수계통 ‘자동’ 위치에서 자동 보충 => 만족"
   ]
  },
  {
   "cell_type": "code",
   "execution_count": 44,
   "id": "cd159fe8",
   "metadata": {},
   "outputs": [
    {
     "data": {
      "image/png": "[encoded data removed]",
      "text/plain": [
       "<Figure size 432x288 with 1 Axes>"
      ]
     },
     "metadata": {
      "needs_background": "light"
     },
     "output_type": "display_data"
    }
   ],
   "source": [
    "# KLAMPO86 : MAKE-UP MODE(AUTO)\n",
    "# ZVCT : VCT 수위\n",
    "# CZVCT3 : VCT LEVEL SETPOINT 30%(AUTO MAKE-UP START)\n",
    "plt.plot(db['KLAMPO86'], color='k')\n",
    "plt.plot(db['ZVCT'], color='r')\n",
    "plt.plot(db['CZVCT3'], color='y')\n",
    "vline = plt.axvline(29, color='b', linestyle='--', linewidth=1)"
   ]
  },
  {
   "cell_type": "code",
   "execution_count": 6,
   "id": "13e85d9d",
   "metadata": {},
   "outputs": [
    {
     "data": {
      "image/png": "[encoded data removed]",
      "text/plain": [
       "<Figure size 432x288 with 1 Axes>"
      ]
     },
     "metadata": {
      "needs_background": "light"
     },
     "output_type": "display_data"
    }
   ],
   "source": [
    "plt.plot(db['KLAMPO86'], color='k')\n",
    "vline = plt.axvline(29, color='b', linestyle='--', linewidth=1)"
   ]
  },
  {
   "cell_type": "code",
   "execution_count": 9,
   "id": "b7c3342e",
   "metadata": {},
   "outputs": [
    {
     "name": "stdout",
     "output_type": "stream",
     "text": [
      "최초 원자로보충수계통 자동 위치에서 보충 시간 : 97초\n"
     ]
    }
   ],
   "source": [
    "vct_level_30 = []\n",
    "for i in range(len(db)):\n",
    "    if i > 29:\n",
    "        if db['ZVCT'][i] < db['CZVCT3'][i] and db['KLAMPO86'][i] == 1:\n",
    "            vct_level_30.append(i+1)\n",
    "if len(vct_level_30) == 0:\n",
    "    print('증상을 만족하지 못했습니다.')\n",
    "else:\n",
    "    print(f'최초 원자로보충수계통 자동 위치에서 보충 시간 : {vct_level_30[0]}초')"
   ]
  },
  {
   "cell_type": "markdown",
   "id": "1eaaf2cd",
   "metadata": {},
   "source": [
    "Report\n",
    "1. 처음부터 자동 위치에서 보충 중이다.\n",
    "2. 30% 이하일 때를 기준으로 해야 하는지, 자동 위치에서 보충하는 시간을 기준으로 해야 할지 의문."
   ]
  },
  {
   "cell_type": "markdown",
   "id": "89fe6b75",
   "metadata": {},
   "source": [
    "### 2.2.2 VCT 수위 20% 이하시 VCT 수위 ‘저’ 경보 => 만족"
   ]
  },
  {
   "cell_type": "code",
   "execution_count": 47,
   "id": "3cc24907",
   "metadata": {},
   "outputs": [
    {
     "data": {
      "image/png": "[encoded data removed]",
      "text/plain": [
       "<Figure size 432x288 with 1 Axes>"
      ]
     },
     "metadata": {
      "needs_background": "light"
     },
     "output_type": "display_data"
    }
   ],
   "source": [
    "# KLAMPO263 : ALARM: VCT LEVEL LOW(20 %)\n",
    "# ZVCT : VCT 수위\n",
    "# CZVCT2 : VCT LEVEL SETPOINT 20%(LOW ALARM)\n",
    "plt.plot(db['KLAMPO263'], color='k')\n",
    "plt.plot(db['ZVCT'], color='r')\n",
    "plt.plot(db['CZVCT2'], color='y')\n",
    "vline = plt.axvline(29, color='b', linestyle='--', linewidth=1)"
   ]
  },
  {
   "cell_type": "code",
   "execution_count": 10,
   "id": "1f5f3f5d",
   "metadata": {},
   "outputs": [
    {
     "name": "stdout",
     "output_type": "stream",
     "text": [
      "최초 VCT 수위 20% 이하시 VCT 수위 \"저\" 경보 시간 : 136초\n"
     ]
    }
   ],
   "source": [
    "vct_level_20 = []\n",
    "for i in range(len(db)):\n",
    "    if i > 29:\n",
    "        if db['ZVCT'][i] < db['CZVCT2'][i] and db['KLAMPO263'][i]==1:\n",
    "            vct_level_20.append(i+1)\n",
    "if len(vct_level_20) == 0:\n",
    "    print('증상을 만족하지 못했습니다.')\n",
    "else:\n",
    "    print(f'최초 VCT 수위 20% 이하시 VCT 수위 \"저\" 경보 시간 : {vct_level_20[0]}초')"
   ]
  },
  {
   "cell_type": "markdown",
   "id": "a9dbf1ff",
   "metadata": {},
   "source": [
    "### 2.2.3 VCT 수위 5% 이하시 충전펌프 흡입원이 VCT에서 RWST로 전환 BG-LV115B/LV115D Open, BG-LV115C/LV115E Close"
   ]
  },
  {
   "cell_type": "code",
   "execution_count": 58,
   "id": "a0e3e11c",
   "metadata": {},
   "outputs": [
    {
     "data": {
      "image/png": "[encoded data removed]",
      "text/plain": [
       "<Figure size 432x288 with 1 Axes>"
      ]
     },
     "metadata": {
      "needs_background": "light"
     },
     "output_type": "display_data"
    }
   ],
   "source": [
    "# CZVCT1 : VCT LEVEL SETPOINT 5%(CLOSE LV616, OPEN LV615)\n",
    "# ZVCT : VCT 수위\n",
    "plt.plot(db['ZVCT'], color='g')\n",
    "plt.plot(db['CZVCT1'], color='k')\n",
    "vline = plt.axvline(29, color='b', linestyle='--', linewidth=1)"
   ]
  },
  {
   "cell_type": "code",
   "execution_count": 55,
   "id": "5b80c40b",
   "metadata": {
    "scrolled": true
   },
   "outputs": [
    {
     "data": {
      "image/png": "[encoded data removed]",
      "text/plain": [
       "<Figure size 432x288 with 1 Axes>"
      ]
     },
     "metadata": {
      "needs_background": "light"
     },
     "output_type": "display_data"
    }
   ],
   "source": [
    "# BLV616 : VCT OUTLET ISO. VALVE(LV616) POSITION \n",
    "# BLV615 : RWST SUCTION ISO. VALVE(LV615) POSITION\n",
    "plt.plot(db['BLV616'], color='r')\n",
    "plt.plot(db['BLV615'], color='y')\n",
    "vline = plt.axvline(29, color='b', linestyle='--', linewidth=1)"
   ]
  },
  {
   "cell_type": "code",
   "execution_count": 12,
   "id": "2b2b410c",
   "metadata": {},
   "outputs": [
    {
     "name": "stdout",
     "output_type": "stream",
     "text": [
      "최초 VCT 수위 5% 이하 및 충전펌프 흡입원이 VCT에서 RWST로 전환 시간 : 194초\n"
     ]
    }
   ],
   "source": [
    "vct_level_5, valve_state = [],[]\n",
    "for i in range(len(db)):\n",
    "    if i > 29:\n",
    "        if db['ZVCT'][i] < db['CZVCT1'][i] and db['BLV616'][i] != 1 and db['BLV615'][i] != 0:\n",
    "            vct_level_5.append(i+1)\n",
    "#         if db['BLV616'][i] != 1 and db['BLV615'][i] != 0:\n",
    "#             valve_state.append(i+1)\n",
    "            \n",
    "if len(vct_level_5) == 0:\n",
    "    print('증상을 만족하지 못했습니다.')\n",
    "else:\n",
    "    print(f'최초 VCT 수위 5% 이하 및 충전펌프 흡입원이 VCT에서 RWST로 전환 시간 : {vct_level_5[0]}초')    \n",
    "    \n",
    "# if len(valve_state) == 0:\n",
    "#     print('증상을 만족하지 못했습니다.')\n",
    "# else:\n",
    "#     print(f'충전펌프 흡입원이 VCT에서 RWST로 전환된 시간 : {valve_state[0]}초')"
   ]
  },
  {
   "cell_type": "markdown",
   "id": "abf345a9",
   "metadata": {},
   "source": [
    "Report\n",
    "\n",
    " 충전펌프 흡인원을 VCT 와 RWST 밸브 상태로 표현함\n",
    " \n",
    " 밸브가 완전히 닫히고 열리는데 4초가량의 시간이 소요됨\n",
    " \n",
    " 따라서 밸브상태가 변하는 시작시간으로 표현함."
   ]
  },
  {
   "cell_type": "markdown",
   "id": "5feef722",
   "metadata": {},
   "source": [
    "### 2.3 가압기 수위 ‘저’ 편차 경보(기준수위 - 5%) 발생"
   ]
  },
  {
   "cell_type": "code",
   "execution_count": 70,
   "id": "a6e20c09",
   "metadata": {},
   "outputs": [
    {
     "data": {
      "image/png": "[encoded data removed]",
      "text/plain": [
       "<Figure size 432x288 with 1 Axes>"
      ]
     },
     "metadata": {
      "needs_background": "light"
     },
     "output_type": "display_data"
    }
   ],
   "source": [
    "# ZINST63 : 가압기 수위\n",
    "# ZINST57 : 가압기 수위 SETPOINT\n",
    "plt.plot(db['ZINST63'], color='r')\n",
    "plt.plot(db['ZINST57'], color='k')\n",
    "vline = plt.axvline(29, color='b', linestyle='--', linewidth=1)"
   ]
  },
  {
   "cell_type": "markdown",
   "id": "a415509b",
   "metadata": {},
   "source": [
    "가압기 기준수위? 평균 수위 찾아야함"
   ]
  },
  {
   "cell_type": "markdown",
   "id": "01ec0921",
   "metadata": {},
   "source": [
    "### 2.4 가압기 압력 ‘저’ 전열기 작동 경보(155.35kg/㎠) 발생 => 경보 증상 불만족"
   ]
  },
  {
   "cell_type": "code",
   "execution_count": 20,
   "id": "2f765900",
   "metadata": {},
   "outputs": [
    {
     "data": {
      "image/png": "[encoded data removed]",
      "text/plain": [
       "<Figure size 432x288 with 1 Axes>"
      ]
     },
     "metadata": {
      "needs_background": "light"
     },
     "output_type": "display_data"
    }
   ],
   "source": [
    "# PPRZ : 가압기 압력\n",
    "# ZINST58 : 가압기 압력 kg단위\n",
    "# plt.plot(db['PPRZ'], color='k') \n",
    "# plt.plot(db['CQPRZB'], color='y') \n",
    "plt.plot(db['ZINST58'], color='k') \n",
    "vline = plt.axhline(155.35, color='r', linestyle='--', linewidth=1)\n",
    "vline = plt.axvline(29, color='b', linestyle='--', linewidth=1)"
   ]
  },
  {
   "cell_type": "code",
   "execution_count": 91,
   "id": "42e08f78",
   "metadata": {},
   "outputs": [
    {
     "data": {
      "image/png": "[encoded data removed]",
      "text/plain": [
       "<Figure size 432x288 with 1 Axes>"
      ]
     },
     "metadata": {
      "needs_background": "light"
     },
     "output_type": "display_data"
    }
   ],
   "source": [
    "# KLAMPO312 : ALARM: PRZ PRESS LOW BACK-UP HEATER ON(153.6 KG/CM2) \n",
    "# KBHON : 가압기 보조전열기 상태 (1:켜짐)\n",
    "plt.plot(db['KLAMPO312'], color='g') \n",
    "plt.plot(db['KBHON'],color='r') \n",
    "vline = plt.axvline(29, color='b', linestyle='--', linewidth=1)"
   ]
  },
  {
   "cell_type": "code",
   "execution_count": 24,
   "id": "56cd663e",
   "metadata": {},
   "outputs": [
    {
     "name": "stdout",
     "output_type": "stream",
     "text": [
      "증상을 만족하지 못했습니다.\n"
     ]
    }
   ],
   "source": [
    "heater_on_al = []\n",
    "for i in range(len(db)):\n",
    "    if i > 29:\n",
    "        if db['ZINST58'][i] < 155.35 and db['KBHON'][i] == 1:\n",
    "            heater_on_al.append(i+1)\n",
    "if len(heater_on_al) == 0:\n",
    "    print('증상을 만족하지 못했습니다.')\n",
    "else:\n",
    "    print(f'최초 가압기 압력\"저\" 전열기 작동 경보(155.35kg/㎠) 발생 시간 : {heater_on_al[0]}초')"
   ]
  },
  {
   "cell_type": "markdown",
   "id": "36e51918",
   "metadata": {},
   "source": [
    "가압기 압력 저 => 불만족\n",
    "\n",
    "전열기 작동 => 만족\n",
    "\n",
    "따라서 가압기 압력 '저' 전열기 작동 경보 => 불만족\n",
    "\n",
    "1. 압력이 높아지는데 전열기가 작동함 => 확인 필요"
   ]
  },
  {
   "cell_type": "markdown",
   "id": "dd5ee9ed",
   "metadata": {},
   "source": [
    "### 2.5 가압기 수위 ‘저’ 경보(17%) 및 다음 증상 발생 => 불만족"
   ]
  },
  {
   "cell_type": "code",
   "execution_count": 34,
   "id": "79f9fea0",
   "metadata": {},
   "outputs": [
    {
     "data": {
      "image/png": "[encoded data removed]",
      "text/plain": [
       "<Figure size 432x288 with 1 Axes>"
      ]
     },
     "metadata": {
      "needs_background": "light"
     },
     "output_type": "display_data"
    }
   ],
   "source": [
    "# KLAMPO311 : ALARM: PRZ cont level lo heater off\n",
    "# ZINST63 : 가압기 수위\n",
    "# CPZLOW : 가압기 수위 저 SETPOINT\n",
    "plt.plot(db['ZINST63'], color='r') \n",
    "plt.plot(db['CPZLOW']*100, color='k')\n",
    "vline = plt.axvline(29, color='b', linestyle='--', linewidth=1)"
   ]
  },
  {
   "cell_type": "code",
   "execution_count": 125,
   "id": "1c4f9326",
   "metadata": {},
   "outputs": [
    {
     "name": "stdout",
     "output_type": "stream",
     "text": [
      "증상을 만족하지 못했습니다.\n"
     ]
    }
   ],
   "source": [
    "pzr_level_lo = []\n",
    "for i in range(len(db)):\n",
    "    if i > 29:\n",
    "        if db['ZINST63'][i] < db['CPZLOW'][i]:\n",
    "            pzr_level_lo.append(i+1)\n",
    "if len(pzr_level_lo) == 0:\n",
    "    print('증상을 만족하지 못했습니다.')\n",
    "else:\n",
    "    print(f'최초 가압기 수위‘저’경보(17%) 발생 시간 : {pzr_level_lo[0]}초')"
   ]
  },
  {
   "cell_type": "markdown",
   "id": "7b7bdd9d",
   "metadata": {},
   "source": [
    "### 2.5.1 가압기 모든 전열기 꺼짐"
   ]
  },
  {
   "cell_type": "code",
   "execution_count": 109,
   "id": "200ca622",
   "metadata": {},
   "outputs": [
    {
     "name": "stdout",
     "output_type": "stream",
     "text": [
      "0             0.0\n",
      "1             0.0\n",
      "2             0.0\n",
      "3             0.0\n",
      "4             0.0\n",
      "          ...    \n",
      "1795    1000000.0\n",
      "1796    1000000.0\n",
      "1797    1000000.0\n",
      "1798    1000000.0\n",
      "1799    1000000.0\n",
      "Name: QPRZB, Length: 1800, dtype: float64\n"
     ]
    },
    {
     "data": {
      "image/png": "[encoded data removed]",
      "text/plain": [
       "<Figure size 432x288 with 1 Axes>"
      ]
     },
     "metadata": {
      "needs_background": "light"
     },
     "output_type": "display_data"
    }
   ],
   "source": [
    "# QPRZB : 보조전열기 power\n",
    "# QPRZH : 비례전열기 power\n",
    "plt.plot(db['QPRZB'], color='r') \n",
    "plt.plot(db['QPRZH'], color='k')\n",
    "vline = plt.axvline(29, color='b', linestyle='--', linewidth=1)\n",
    "print(db['QPRZB'])"
   ]
  },
  {
   "cell_type": "code",
   "execution_count": 124,
   "id": "361605d1",
   "metadata": {},
   "outputs": [
    {
     "name": "stdout",
     "output_type": "stream",
     "text": [
      "최초 가압기의 모든 전열기 꺼짐 시간 : 66초\n"
     ]
    }
   ],
   "source": [
    "heat_power = []\n",
    "for i in range(len(db)):\n",
    "    if i > 29:\n",
    "        if db['QPRZB'][i] < 0.001 and db['QPRZH'][i] < 0.001:\n",
    "            heat_power.append(i+1)\n",
    "if len(heat_power) == 0:\n",
    "    print('증상을 만족하지 못했습니다.')\n",
    "else:\n",
    "    print(f'최초 가압기의 모든 전열기 꺼짐 시간 : {heat_power[0]}초')"
   ]
  },
  {
   "cell_type": "markdown",
   "id": "7c317593",
   "metadata": {},
   "source": [
    "### Report (재확인)\n",
    "\n",
    "불만족 사항임에도 불구하고 초반에 만족함으로써, 만족한 사항으로 인식됨.\n",
    "\n",
    "불반족 했을때의 시간도 체크할 필요가 있어보임."
   ]
  },
  {
   "cell_type": "markdown",
   "id": "e3eb906b",
   "metadata": {},
   "source": [
    "### 2.5.2 유출수 차단발생(BG-LV459/LV460, BG-HV1/HV2/HV3 닫힘)"
   ]
  },
  {
   "cell_type": "code",
   "execution_count": 122,
   "id": "0183ed39",
   "metadata": {},
   "outputs": [
    {
     "data": {
      "image/png": "[encoded data removed]",
      "text/plain": [
       "<Figure size 432x288 with 1 Axes>"
      ]
     },
     "metadata": {
      "needs_background": "light"
     },
     "output_type": "display_data"
    }
   ],
   "source": [
    "# BLV459\n",
    "# BHV1\n",
    "# BHV2\n",
    "# BHV3\n",
    "plt.plot(db['BLV459']) \n",
    "plt.plot(db['BHV1'])\n",
    "plt.plot(db['BHV2']) \n",
    "plt.plot(db['BHV3'])\n",
    "vline = plt.axvline(29, color='b', linestyle='--', linewidth=1)"
   ]
  },
  {
   "cell_type": "code",
   "execution_count": 126,
   "id": "5ec5194b",
   "metadata": {},
   "outputs": [
    {
     "name": "stdout",
     "output_type": "stream",
     "text": [
      "증상을 만족하지 못했습니다.\n"
     ]
    }
   ],
   "source": [
    "valve_state_0 = []\n",
    "for i in range(len(db)):\n",
    "    if i > 29:\n",
    "        if db['BLV459'][i] == 0 and db['BHV1'][i] == 0 and db['BHV2'][i] == 0 and db['BHV3'][i] == 0:\n",
    "            valve_state_0.append(i+1)\n",
    "if len(valve_state_0) == 0:\n",
    "    print('증상을 만족하지 못했습니다.')\n",
    "else:\n",
    "    print(f'최초 유출수 차단발생 시간 : {valve_state_0[0]}초')"
   ]
  },
  {
   "cell_type": "markdown",
   "id": "295cd59f",
   "metadata": {},
   "source": [
    "### 2.6 재생 열교환기 후단 유출수 온도(BG-TI140) 감소"
   ]
  },
  {
   "cell_type": "code",
   "execution_count": 165,
   "id": "ffd8d156",
   "metadata": {},
   "outputs": [
    {
     "data": {
      "image/png": "[encoded data removed]",
      "text/plain": [
       "<Figure size 432x288 with 1 Axes>"
      ]
     },
     "metadata": {
      "needs_background": "light"
     },
     "output_type": "display_data"
    }
   ],
   "source": [
    "# URHXUT : RHX OUTLET TEMPERATURE.\n",
    "plt.plot(db['URHXUT'].iloc[:50], color='k') \n",
    "vline = plt.axvline(29, color='b', linestyle='--', linewidth=1)"
   ]
  },
  {
   "cell_type": "code",
   "execution_count": 160,
   "id": "edc518e5",
   "metadata": {},
   "outputs": [
    {
     "name": "stdout",
     "output_type": "stream",
     "text": [
      "증상을 만족하지 못했습니다.\n"
     ]
    }
   ],
   "source": [
    "rhx_outlet_temp = []\n",
    "for i in range(len(db)):\n",
    "    if i > 29:\n",
    "        sym_ch[1].append(db['URHXUT'][i])\n",
    "    if len(sym_ch[1]) == 5:\n",
    "        if sym_ch[1][0] > sym_ch[1][1] > sym_ch[1][2] > sym_ch[1][3] > sym_ch[1][4]:\n",
    "            rhx_outlet_temp.append(i+1)\n",
    "#             print(f'수위 감소 증상 만족 시간 : {i+1}초')\n",
    "if len(rhx_outlet_temp) == 0:\n",
    "    print('증상을 만족하지 못했습니다.')\n",
    "else:\n",
    "    print(f'최초 재생 열교환기 후단 유출수 온도 감소 증상 만족 시간 : {rhx_outlet_temp[0]}초')"
   ]
  },
  {
   "cell_type": "markdown",
   "id": "c31810cf",
   "metadata": {},
   "source": [
    "Report\n",
    "\n",
    "malfunction 주입 전에 감소합니다."
   ]
  },
  {
   "cell_type": "markdown",
   "id": "7ec1ed54",
   "metadata": {},
   "source": [
    "### 2.7 재생 열교환기 후단 충전수 온도(BG-TI123) 감소"
   ]
  },
  {
   "cell_type": "code",
   "execution_count": 152,
   "id": "f9d62c9b",
   "metadata": {},
   "outputs": [
    {
     "data": {
      "image/png": "[encoded data removed]",
      "text/plain": [
       "<Figure size 432x288 with 1 Axes>"
      ]
     },
     "metadata": {
      "needs_background": "light"
     },
     "output_type": "display_data"
    }
   ],
   "source": [
    "# UCHGUT : CHARGING LINE OUTLET TEMPERATURE\n",
    "plt.plot(db['UCHGUT'], color='k') \n",
    "vline = plt.axvline(29, color='b', linestyle='--', linewidth=1)"
   ]
  },
  {
   "cell_type": "code",
   "execution_count": 168,
   "id": "eed6387f",
   "metadata": {},
   "outputs": [
    {
     "name": "stdout",
     "output_type": "stream",
     "text": [
      "최초 재생 열교환기 후단 충전수 온도 감소 증상 만족 시간 : 35초\n"
     ]
    }
   ],
   "source": [
    "charging_outlet_temp = []\n",
    "for i in range(len(db)):\n",
    "    if i > 29:\n",
    "        sym_ch[2].append(db['UCHGUT'][i])\n",
    "    if len(sym_ch[2]) == 5:\n",
    "        if sym_ch[2][0] > sym_ch[2][1] > sym_ch[2][2] > sym_ch[2][3] > sym_ch[2][4]:\n",
    "            charging_outlet_temp.append(i+1)\n",
    "#             print(f'수위 감소 증상 만족 시간 : {i+1}초')\n",
    "if len(charging_outlet_temp) == 0:\n",
    "    print('증상을 만족하지 못했습니다.')\n",
    "else:\n",
    "    print(f'최초 재생 열교환기 후단 충전수 온도 감소 증상 만족 시간 : {charging_outlet_temp[0]}초')"
   ]
  },
  {
   "cell_type": "markdown",
   "id": "b0415861",
   "metadata": {},
   "source": [
    "### 2.8 격납용기 배수조 수위 증가"
   ]
  },
  {
   "cell_type": "code",
   "execution_count": 156,
   "id": "3c6fc778",
   "metadata": {},
   "outputs": [
    {
     "data": {
      "image/png": "[encoded data removed]",
      "text/plain": [
       "<Figure size 432x288 with 1 Axes>"
      ]
     },
     "metadata": {
      "needs_background": "light"
     },
     "output_type": "display_data"
    }
   ],
   "source": [
    "# ZSUMP : SUMP 수위\n",
    "plt.plot(db['ZSUMP'], color='k') \n",
    "vline = plt.axvline(29, color='b', linestyle='--', linewidth=1)"
   ]
  },
  {
   "cell_type": "code",
   "execution_count": 175,
   "id": "e3210081",
   "metadata": {},
   "outputs": [
    {
     "name": "stdout",
     "output_type": "stream",
     "text": [
      "증상을 만족하지 못했습니다.\n"
     ]
    }
   ],
   "source": [
    "sump_level = []\n",
    "for i in range(len(db)):\n",
    "    if i > 29:\n",
    "        sym_ch[3].append(db['ZSUMP'][i])\n",
    "    if len(sym_ch[3]) == 5:\n",
    "        if sym_ch[3][0] < sym_ch[3][1] < sym_ch[3][2] < sym_ch[3][3] < sym_ch[3][4]:\n",
    "            sump_level.append(i+1)\n",
    "#             print(f'수위 감소 증상 만족 시간 : {i+1}초')\n",
    "if len(sump_level) == 0:\n",
    "    print('증상을 만족하지 못했습니다.')\n",
    "else:\n",
    "    print(f'최초 격납용기 배수조 수위 증가 증상 만족 시간 : {sump_level[0]}초')"
   ]
  },
  {
   "cell_type": "markdown",
   "id": "02b5008d",
   "metadata": {},
   "source": [
    "### 2.9 격납용기내 방사능준위 증가"
   ]
  },
  {
   "cell_type": "code",
   "execution_count": 174,
   "id": "516afc9e",
   "metadata": {},
   "outputs": [
    {
     "data": {
      "image/png": "[encoded data removed]",
      "text/plain": [
       "<Figure size 432x288 with 1 Axes>"
      ]
     },
     "metadata": {
      "needs_background": "light"
     },
     "output_type": "display_data"
    }
   ],
   "source": [
    "# ZINST22 : CONTAINMENT RADIATION            \n",
    "plt.plot(db['ZINST22'], color='k') \n",
    "vline = plt.axvline(29, color='b', linestyle='--', linewidth=1)"
   ]
  },
  {
   "cell_type": "code",
   "execution_count": 178,
   "id": "7662fda9",
   "metadata": {},
   "outputs": [
    {
     "name": "stdout",
     "output_type": "stream",
     "text": [
      "증상을 만족하지 못했습니다.\n"
     ]
    }
   ],
   "source": [
    "cont_rad = []\n",
    "for i in range(len(db)):\n",
    "    if i > 29:\n",
    "        sym_ch[4].append(db['ZINST22'][i])\n",
    "    if len(sym_ch[4]) == 5:\n",
    "        if sym_ch[4][0] < sym_ch[4][1] < sym_ch[4][2] < sym_ch[4][3] < sym_ch[4][4]:\n",
    "            cont_rad.append(i+1)\n",
    "#             print(f'수위 감소 증상 만족 시간 : {i+1}초')\n",
    "if len(cont_rad) == 0:\n",
    "    print('증상을 만족하지 못했습니다.')\n",
    "else:\n",
    "    print(f'최초 격납용기내 방사능준위 증가 증상 만족 시간 : {cont_rad[0]}초')"
   ]
  },
  {
   "cell_type": "markdown",
   "id": "d74e8ca2",
   "metadata": {},
   "source": [
    "### 2.10 격납용기내 습도 증가"
   ]
  },
  {
   "cell_type": "code",
   "execution_count": 179,
   "id": "e3ae343d",
   "metadata": {},
   "outputs": [
    {
     "data": {
      "image/png": "[encoded data removed]",
      "text/plain": [
       "<Figure size 432x288 with 1 Axes>"
      ]
     },
     "metadata": {
      "needs_background": "light"
     },
     "output_type": "display_data"
    }
   ],
   "source": [
    "# ZINST23 : CONTAINMENT RELATIVE HUMIDITY      \n",
    "plt.plot(db['ZINST23'], color='k') \n",
    "vline = plt.axvline(29, color='b', linestyle='--', linewidth=1)"
   ]
  },
  {
   "cell_type": "code",
   "execution_count": 181,
   "id": "82fa2510",
   "metadata": {},
   "outputs": [
    {
     "name": "stdout",
     "output_type": "stream",
     "text": [
      "증상을 만족하지 못했습니다.\n"
     ]
    }
   ],
   "source": [
    "cont_humidity = []\n",
    "for i in range(len(db)):\n",
    "    if i > 29:\n",
    "        sym_ch[5].append(db['ZINST23'][i])\n",
    "    if len(sym_ch[5]) == 5:\n",
    "        if sym_ch[5][0] < sym_ch[5][1] < sym_ch[5][2] < sym_ch[5][3] < sym_ch[5][4]:\n",
    "            cont_humidity.append(i+1)\n",
    "#             print(f'수위 감소 증상 만족 시간 : {i+1}초')\n",
    "if len(cont_humidity) == 0:\n",
    "    print('증상을 만족하지 못했습니다.')\n",
    "else:\n",
    "    print(f'최초 격납용기내 습도 증가 증상 만족 시간 : {cont_humidity[0]}초')"
   ]
  },
  {
   "cell_type": "markdown",
   "id": "97ac4a3c",
   "metadata": {},
   "source": [
    "## 3.0 자동 동작사항"
   ]
  },
  {
   "cell_type": "markdown",
   "id": "3c149d75",
   "metadata": {},
   "source": [
    "### 3.1 유출수 열교환기 출구 압력지시계(BG-PI145) 지시치 감소 및 압력조절밸브(BG-PV145) 서서히 닫힘"
   ]
  },
  {
   "cell_type": "code",
   "execution_count": 11,
   "id": "456f2b2f",
   "metadata": {},
   "outputs": [
    {
     "data": {
      "image/png": "[encoded data removed]",
      "text/plain": [
       "<Figure size 432x288 with 1 Axes>"
      ]
     },
     "metadata": {
      "needs_background": "light"
     },
     "output_type": "display_data"
    }
   ],
   "source": [
    "# BPV145 : 압력조절밸브 position (PV145)\n",
    "# ZINST36 : letdown back pressure\n",
    "plt.plot(db['BPV145'].iloc[:50], color='r')\n",
    "plt.plot(db['ZINST36'].iloc[:50], color='k')\n",
    "vline = plt.axvline(29, color='b', linestyle='--', linewidth=1)"
   ]
  },
  {
   "cell_type": "code",
   "execution_count": 12,
   "id": "134bd116",
   "metadata": {},
   "outputs": [
    {
     "name": "stdout",
     "output_type": "stream",
     "text": [
      "최초 유출수 열교환기 출구 압력지시계 지시치 감소 및 압력조절밸브 닫힘 시간 : 35초\n"
     ]
    }
   ],
   "source": [
    "letdown_back_pressure = []\n",
    "for i in range(len(db)):\n",
    "    if i > 29:\n",
    "        sym_ch[6].append(db['BPV145'][i])\n",
    "        sym_ch[7].append(db['ZINST36'][i])\n",
    "    if len(sym_ch[6]) == 5:\n",
    "        if sym_ch[6][0] > sym_ch[6][1] > sym_ch[6][2] > sym_ch[6][3] > sym_ch[6][4] and sym_ch[7][0] > sym_ch[7][1] > sym_ch[7][2] > sym_ch[7][3] > sym_ch[7][4]:\n",
    "            letdown_back_pressure.append(i+1)\n",
    "#             print(f'수위 감소 증상 만족 시간 : {i+1}초')\n",
    "if len(letdown_back_pressure) == 0:\n",
    "    print('증상을 만족하지 못했습니다.')\n",
    "else:\n",
    "    print(f'최초 유출수 열교환기 출구 압력지시계 지시치 감소 및 압력조절밸브 닫힘 시간 : {letdown_back_pressure[0]}초')"
   ]
  },
  {
   "cell_type": "markdown",
   "id": "04803f8f",
   "metadata": {},
   "source": [
    "### 3.2 유출수 열교환기 출구 온도지시계(BG-TI144) 지시치 감소 및 유출수 열교환기 출구 온도 조절밸브(EG-TV144) 서서히 닫힘"
   ]
  },
  {
   "cell_type": "code",
   "execution_count": 15,
   "id": "1a97e992",
   "metadata": {},
   "outputs": [
    {
     "data": {
      "image/png": "[encoded data removed]",
      "text/plain": [
       "<Figure size 432x288 with 1 Axes>"
      ]
     },
     "metadata": {
      "needs_background": "light"
     },
     "output_type": "display_data"
    }
   ],
   "source": [
    "# UNRHXUT : NRHX OUTLET TEMPERATURE.\n",
    "# BTV143 : TV143, LETDOWN TEMP. DEMINERALIZER DEVERT VALVE POSITION\n",
    "plt.plot(db['UNRHXUT'].iloc[:50], color='k')\n",
    "vline = plt.axvline(29, color='b', linestyle='--', linewidth=1)"
   ]
  },
  {
   "cell_type": "code",
   "execution_count": 18,
   "id": "e10b0602",
   "metadata": {},
   "outputs": [
    {
     "name": "stdout",
     "output_type": "stream",
     "text": [
      "최초 유출수 열교환기 출구 압력지시계 지시치 감소 및 유출수 열교환기 출구 온도 조절밸브 닫힘 시간 : 35초\n"
     ]
    }
   ],
   "source": [
    "letdown_back_temp = []\n",
    "for i in range(len(db)):\n",
    "    if i > 29:\n",
    "        sym_ch[8].append(db['UNRHXUT'][i])\n",
    "    if len(sym_ch[8]) == 5:\n",
    "        if sym_ch[8][0] > sym_ch[8][1] > sym_ch[8][2] > sym_ch[8][3] > sym_ch[8][4]:\n",
    "            letdown_back_temp.append(i+1)\n",
    "#             print(f'수위 감소 증상 만족 시간 : {i+1}초')\n",
    "if len(letdown_back_temp) == 0:\n",
    "    print('증상을 만족하지 못했습니다.')\n",
    "else:\n",
    "    print(f'최초 유출수 열교환기 출구 압력지시계 지시치 감소 및 유출수 열교환기 출구 온도 조절밸브 닫힘 시간 : {letdown_back_temp[0]}초')"
   ]
  },
  {
   "cell_type": "markdown",
   "id": "d9aae55b",
   "metadata": {},
   "source": [
    "TV144을 확인할 수 없습니다.\n",
    "\n",
    "TV143과 같은 밸브인지 확인이 필요합니다."
   ]
  },
  {
   "cell_type": "markdown",
   "id": "3bca354c",
   "metadata": {},
   "source": [
    "### 3.3 가압기 수위 감소에 따라 충전수 유량제어기(BG-FK122) ‘자동’ 상태에서 충전수 유량 조절밸브(BG-FV122) 서서히 열림"
   ]
  },
  {
   "cell_type": "code",
   "execution_count": 20,
   "id": "e4599b6f",
   "metadata": {},
   "outputs": [
    {
     "data": {
      "image/png": "[encoded data removed]",
      "text/plain": [
       "<Figure size 432x288 with 1 Axes>"
      ]
     },
     "metadata": {
      "needs_background": "light"
     },
     "output_type": "display_data"
    }
   ],
   "source": [
    "# BFV122 : CHARGING FLOW CONTROL VALVE(FV122) POSITION\n",
    "plt.plot(db['BFV122'], color='k')\n",
    "vline = plt.axvline(29, color='b', linestyle='--', linewidth=1)"
   ]
  },
  {
   "cell_type": "code",
   "execution_count": 22,
   "id": "ea7d1a3e",
   "metadata": {},
   "outputs": [
    {
     "name": "stdout",
     "output_type": "stream",
     "text": [
      "최초 충전수 유량 조절밸브 열림 시간 : 34초\n"
     ]
    }
   ],
   "source": [
    "fv122_state = []\n",
    "for i in range(len(db)):\n",
    "    if i > 29:\n",
    "        sym_ch[9].append(db['BFV122'][i])\n",
    "    if len(sym_ch[9]) == 5:\n",
    "        if sym_ch[9][0] < sym_ch[9][1] < sym_ch[9][2] < sym_ch[9][3] < sym_ch[9][4]:\n",
    "            fv122_state.append(i+1)\n",
    "#             print(f'수위 감소 증상 만족 시간 : {i+1}초')\n",
    "if len(fv122_state) == 0:\n",
    "    print('증상을 만족하지 못했습니다.')\n",
    "else:\n",
    "    print(f'최초 충전수 유량 조절밸브 열림 시간 : {fv122_state[0]}초')"
   ]
  },
  {
   "cell_type": "markdown",
   "id": "9d869ca7",
   "metadata": {},
   "source": [
    "충전수 유량제어기 상태변수 확인 필요."
   ]
  },
  {
   "cell_type": "markdown",
   "id": "18b39db4",
   "metadata": {},
   "source": [
    "## 4.0 긴급 조치사항"
   ]
  },
  {
   "cell_type": "markdown",
   "id": "a3bb15f3",
   "metadata": {},
   "source": [
    "주의사항\n",
    "1. VCT 수위 30% 이하 자동보충 상태에서도 수위복구가 어려우면 수위 감소율을 감안하여 5% 도달 이전이라도 충전펌프의 흡입원을 RWST로 수동 전환한다.\n",
    "   - 충전펌프 흡입원을 RWST로 수동 전환할 때는 RWST로부터의 흡입밸브(BG-LV115B/LV115D)를 먼저 열고 VCT 출구밸브(BG-LV115C/LV115E)를 닫는다.\n",
    "2. 출력 증, 감발중일 경우 즉시 중지하고 현재 출력상태를 유지한다."
   ]
  },
  {
   "cell_type": "markdown",
   "id": "9c63c25c",
   "metadata": {},
   "source": [
    "### 4.1 원자로보충수계통의 ‘자동’ 위치를 확인하고 VCT 수위가 30%에서 충수가 시작되는지를 확인한 다음 충수가 안되면 즉시 수동으로 충수한다.\n",
    "\t주) VCT 수위가 30% 이상이라도 필요한 경우 수동 보충운전을 수행한다."
   ]
  },
  {
   "cell_type": "markdown",
   "id": "836bb5f2",
   "metadata": {},
   "source": [
    "### 4.2 가압기 수위를 유지하기 위해 다음과 같이 유출수계통을 차단한다."
   ]
  },
  {
   "cell_type": "markdown",
   "id": "603f5051",
   "metadata": {},
   "source": [
    "### 4.2.1 유출수 오리피스차단밸브(BG-HV1/HV2/HV3)를 닫고 녹색지시등을 확인한다."
   ]
  },
  {
   "cell_type": "markdown",
   "id": "3b4435a0",
   "metadata": {},
   "source": [
    "### 4.2.2 유출수 차단밸브(BG-LV459/LV460)를 닫고 녹색지시등을 확인한다."
   ]
  },
  {
   "cell_type": "markdown",
   "id": "fdf6a7a7",
   "metadata": {},
   "source": [
    "### 4.3 가압기 수위가 계속 감소하면 ‘비정상-23(원자로냉각재계통 누설)’ 절차를 수행하고, 감소하지 않으면 다음 절차로 진행한다."
   ]
  },
  {
   "cell_type": "markdown",
   "id": "8de98e92",
   "metadata": {},
   "source": [
    "### 4.4 가압기 수위가 정상수위(기준수위 ± 5%)로 회복되면 충전수 유량 조절밸브(BG-FV122)를 닫아 충전수를 차단한다."
   ]
  },
  {
   "cell_type": "markdown",
   "id": "47540eb4",
   "metadata": {},
   "source": [
    "### 4.5 RCP 밀봉주입수 유량 조절밸브(BG-HV186)를 조절하여 각 펌프당 밀봉주입수 유량을 0.5～0.63ℓ/s(8～10gpm)로 맞춘다."
   ]
  },
  {
   "cell_type": "markdown",
   "id": "808627b6",
   "metadata": {},
   "source": [
    "## 5.0 후속 조치사항"
   ]
  },
  {
   "cell_type": "code",
   "execution_count": null,
   "id": "fc0d0dd3",
   "metadata": {},
   "outputs": [],
   "source": []
  }
 ],
 "metadata": {
  "kernelspec": {
   "display_name": "Python 3 (ipykernel)",
   "language": "python",
   "name": "python3"
  },
  "language_info": {
   "codemirror_mode": {
    "name": "ipython",
    "version": 3
   },
   "file_extension": ".py",
   "mimetype": "text/x-python",
   "name": "python",
   "nbconvert_exporter": "python",
   "pygments_lexer": "ipython3",
   "version": "3.7.4"
  }
 },
 "nbformat": 4,
 "nbformat_minor": 5
}
