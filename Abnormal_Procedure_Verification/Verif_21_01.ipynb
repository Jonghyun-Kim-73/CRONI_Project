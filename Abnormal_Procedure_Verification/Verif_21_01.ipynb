{
 "cells": [
  {
   "cell_type": "markdown",
   "metadata": {},
   "source": [
    "# 비정상 절차서 21-01 : <font color=blue>PZR 압력 채널 BB-PT444 고장 ‘고’"
   ]
  },
  {
   "cell_type": "markdown",
   "metadata": {},
   "source": [
    "1 경보 및 증상\n",
    "\n",
    "2 자동 동작사항\n",
    "\n",
    "3 긴급 조치사항 \n",
    "\n",
    "4 후속 조치사항 ㅇ"
   ]
  },
  {
   "cell_type": "markdown",
   "metadata": {},
   "source": [
    "## <font color=blue>1.0 데이터 처리"
   ]
  },
  {
   "cell_type": "code",
   "execution_count": 2,
   "metadata": {},
   "outputs": [],
   "source": [
    "import pickle\n",
    "import matplotlib.pyplot as plt\n",
    "from collections import deque\n",
    "# with open('D:/CRONI_New_Interface/new_db_30mal/ab23_06_30004_(175).pkl', 'rb') as f:\n",
    "with open('D:/이상현/9._.CNS_Platform(멀티 CNS 실행)/상현CNN/Data_pkl/ab21_01_166_(125).pkl', 'rb') as f:\n",
    "    db = pickle.load(f)\n",
    "sym_ch = {0:deque(maxlen=5), 1:deque(maxlen=5), 2:deque(maxlen=5), 3:deque(maxlen=5), 'CPPRZL':deque(maxlen=5), 'PPRZ':deque(maxlen=5)}"
   ]
  },
  {
   "cell_type": "markdown",
   "metadata": {},
   "source": [
    "## <font color=blue>2.0 경보 및 증상"
   ]
  },
  {
   "cell_type": "markdown",
   "metadata": {},
   "source": [
    "### <font color=blue>2.1 PZR '고'압력 지시(BB-PI444)<font color=green> - 만족"
   ]
  },
  {
   "cell_type": "code",
   "execution_count": 3,
   "metadata": {},
   "outputs": [
    {
     "data": {
      "image/png": "[encoded data removed]",
      "text/plain": [
       "<Figure size 432x288 with 1 Axes>"
      ]
     },
     "metadata": {
      "needs_background": "light"
     },
     "output_type": "display_data"
    }
   ],
   "source": [
    "# ZINST58 : 가압기 압력 지시치\n",
    "plt.plot(db['ZINST58']*98067, color='k') # -> 압력 증가 확인\n",
    "plt.plot(db['CPPRZH'], color='r') # -> '고'압력 지시 확인\n",
    "\n",
    "vline = plt.axvline(29, color='b', linestyle='--', linewidth=1)"
   ]
  },
  {
   "cell_type": "code",
   "execution_count": 149,
   "metadata": {},
   "outputs": [
    {
     "name": "stdout",
     "output_type": "stream",
     "text": [
      "가압기 압력 \"고\" 지시 만족 시간 : 31초\n"
     ]
    }
   ],
   "source": [
    "PRZ_pre = []\n",
    "for i in range(len(db)):\n",
    "    if i > 29:\n",
    "        if db['ZINST58'][i]*98067 > db['CPPRZH'][i]:\n",
    "            PRZ_pre.append(i+1)\n",
    "if len(PRZ_pre) == 0:\n",
    "    print('증상을 만족하지 못했습니다.')\n",
    "else:\n",
    "    print(f'가압기 압력 \"고\" 지시 만족 시간 : {PRZ_pre[0]}초')"
   ]
  },
  {
   "cell_type": "markdown",
   "metadata": {},
   "source": [
    "### <font color=blue>2.2 PZR 살수밸브(BB-PV444C, 444D) 열림 지시(158.9㎏/㎠)<font color=green> - 만족"
   ]
  },
  {
   "cell_type": "code",
   "execution_count": 5,
   "metadata": {},
   "outputs": [
    {
     "data": {
      "image/png": "[encoded data removed]",
      "text/plain": [
       "<Figure size 432x288 with 1 Axes>"
      ]
     },
     "metadata": {
      "needs_background": "light"
     },
     "output_type": "display_data"
    }
   ],
   "source": [
    "# BPRZSP : PZR 살수밸브 포지션\n",
    "plt.plot(db['BPRZSP'], color='k') # -> PZR 살수밸브 포지션 확인\n",
    "vline = plt.axvline(29, color='b', linestyle='--', linewidth=1)\n",
    "hline = plt.axhline(1, color='r', linestyle='--', linewidth=1)"
   ]
  },
  {
   "cell_type": "code",
   "execution_count": 7,
   "metadata": {},
   "outputs": [
    {
     "name": "stdout",
     "output_type": "stream",
     "text": [
      "가압기 살수 밸브 열림 지시 만족 시간 : 33초\n"
     ]
    }
   ],
   "source": [
    "spray_valve = []\n",
    "for i in range(len(db)):\n",
    "    if i > 29:\n",
    "        if db['BPRZSP'][i] > 0.99:\n",
    "            spray_valve.append(i+1)\n",
    "if len(spray_valve) == 0:\n",
    "    print('증상을 만족하지 못했습니다.')\n",
    "else:\n",
    "    print(f'가압기 살수 밸브 열림 지시 만족 시간 : {spray_valve[0]}초')\n",
    "            "
   ]
  },
  {
   "cell_type": "markdown",
   "metadata": {},
   "source": [
    "### <font color=blue>2.3 PZR 비례전열기 꺼짐(158.1㎏/㎠)<font color=green> - 만족"
   ]
  },
  {
   "cell_type": "code",
   "execution_count": 8,
   "metadata": {},
   "outputs": [
    {
     "data": {
      "image/png": "[encoded data removed]",
      "text/plain": [
       "<Figure size 432x288 with 1 Axes>"
      ]
     },
     "metadata": {
      "needs_background": "light"
     },
     "output_type": "display_data"
    }
   ],
   "source": [
    "# QPRZH : 비례전열기 전원\n",
    "plt.plot(db['QPRZH'], color='k') # -> 비례전열기 전원 확인\n",
    "vline = plt.axvline(29, color='b', linestyle='--', linewidth=1)\n",
    "hline = plt.axhline(0, color='r', linestyle='--', linewidth=1)"
   ]
  },
  {
   "cell_type": "code",
   "execution_count": 154,
   "metadata": {},
   "outputs": [
    {
     "name": "stdout",
     "output_type": "stream",
     "text": [
      "비례전열기 꺼짐 만족 시간 : 31초\n"
     ]
    }
   ],
   "source": [
    "QPRZH_onoff = []\n",
    "for i in range(len(db)):\n",
    "    if i > 29:\n",
    "        if db['QPRZH'][i] == 0:\n",
    "            QPRZB_onoff.append(i+1)\n",
    "if len(QPRZB_onoff) == 0:\n",
    "    print('증상을 만족하지 못했습니다.')\n",
    "else:\n",
    "    print(f'비례전열기 꺼짐 만족 시간 : {QPRZB_onoff[0]}초')"
   ]
  },
  {
   "cell_type": "markdown",
   "metadata": {},
   "source": [
    "### <font color=blue>2.4 PZR 보조전열기 꺼짐(158.1㎏/㎠)<font color=green> - 만족"
   ]
  },
  {
   "cell_type": "code",
   "execution_count": 10,
   "metadata": {},
   "outputs": [
    {
     "data": {
      "image/png": "[encoded data removed]",
      "text/plain": [
       "<Figure size 432x288 with 1 Axes>"
      ]
     },
     "metadata": {
      "needs_background": "light"
     },
     "output_type": "display_data"
    }
   ],
   "source": [
    "# QPRZB : 보조전열기 전원\n",
    "plt.plot(db['QPRZB'], color='k') # -> 보조전열기 전원 확인\n",
    "hline = plt.axhline(0, color='r', linestyle='--', linewidth=1)\n",
    "vline = plt.axvline(29, color='b', linestyle='--', linewidth=1)\n"
   ]
  },
  {
   "cell_type": "code",
   "execution_count": 157,
   "metadata": {},
   "outputs": [
    {
     "name": "stdout",
     "output_type": "stream",
     "text": [
      "비례전열기 꺼짐 만족 시간 : 31초\n"
     ]
    }
   ],
   "source": [
    "QPRZH_onoff = []\n",
    "for i in range(len(db)):\n",
    "    if i > 29:\n",
    "        if db['QPRZB'][i] == 0:\n",
    "            QPRZH_onoff.append(i+1)\n",
    "if len(QPRZH_onoff) == 0:\n",
    "    print('증상을 만족하지 못했습니다.')\n",
    "else:\n",
    "    print(f'비례전열기 꺼짐 만족 시간 : {QPRZH_onoff[0]}초')"
   ]
  },
  {
   "cell_type": "markdown",
   "metadata": {},
   "source": [
    "### <font color=blue>2.5 \"PZR PRESS LOW\"(BB-PT445) 경보 발생(153.7㎏/㎠) 및 PZR ‘저’ 압력 지시(BB-PI445, 455, 456, 457)<font color=green> - 만족"
   ]
  },
  {
   "cell_type": "markdown",
   "metadata": {},
   "source": [
    "저 압력 지시가 실제 압력 지시인지 압력 지시계 지시인지 살짝 헷갈린다고 알림."
   ]
  },
  {
   "cell_type": "code",
   "execution_count": 158,
   "metadata": {},
   "outputs": [
    {
     "data": {
      "image/png": "[encoded data removed]",
      "text/plain": [
       "<Figure size 432x288 with 1 Axes>"
      ]
     },
     "metadata": {
      "needs_background": "light"
     },
     "output_type": "display_data"
    }
   ],
   "source": [
    "# KLAMPO308 : \"PZR PRESS LOW\"(BB-PT445) 경보\n",
    "plt.plot(db['KLAMPO308'], color='r') #실제 압력\n",
    "\n",
    "vline = plt.axvline(29, color='b', linestyle='--', linewidth=1)"
   ]
  },
  {
   "cell_type": "code",
   "execution_count": 159,
   "metadata": {},
   "outputs": [
    {
     "name": "stdout",
     "output_type": "stream",
     "text": [
      " \"PZR PRESS LOW\"(BB-PT445) 경보 발생 만족 시간 : 45초\n"
     ]
    }
   ],
   "source": [
    "PRZ_low_alr = []\n",
    "for i in range(len(db)):\n",
    "    if i > 29:\n",
    "        if db['KLAMPO308'][i] > 0:\n",
    "            PRZ_low_alr.append(i+1)\n",
    "if len(PRZ_low_alr) == 0:\n",
    "    print('증상을 만족하지 못했습니다.')\n",
    "else:\n",
    "    print(f' \"PZR PRESS LOW\"(BB-PT445) 경보 발생 만족 시간 : {PRZ_low_alr[0]}초')"
   ]
  },
  {
   "cell_type": "code",
   "execution_count": 160,
   "metadata": {},
   "outputs": [
    {
     "data": {
      "image/png": "[encoded data removed]",
      "text/plain": [
       "<Figure size 432x288 with 1 Axes>"
      ]
     },
     "metadata": {
      "needs_background": "light"
     },
     "output_type": "display_data"
    }
   ],
   "source": [
    "# KLAMPO308 : \"PZR PRESS LOW\"(BB-PT445) 경보\n",
    " # -> \"PZR PRESS LOW\"(BB-PT445) 경보 발생 확인\n",
    "plt.plot(db['PPRZ'], color='r') #실제 압력\n",
    "plt.plot(db['ZINST58']*98067, color='k') # 압력 지시치\n",
    "plt.plot(db['CPPRZL'], color='b') #저 압력 기준치\n",
    "vline = plt.axvline(29, color='b', linestyle='--', linewidth=1)"
   ]
  },
  {
   "cell_type": "code",
   "execution_count": 161,
   "metadata": {},
   "outputs": [
    {
     "name": "stdout",
     "output_type": "stream",
     "text": [
      "가압기 \"저\" 지시 만족 시간 : 45초\n"
     ]
    }
   ],
   "source": [
    "PRZ_low_pre = []\n",
    "for i in range(len(db)):\n",
    "    if i > 29:\n",
    "        if db['PPRZ'][i] < db['CPPRZL'][i]:\n",
    "            PRZ_low_pre.append(i+1)\n",
    "if len(PRZ_low_pre) == 0:\n",
    "    print('증상을 만족하지 못했습니다.')\n",
    "else:\n",
    "    print(f'가압기 \"저\" 지시 만족 시간 : {PRZ_low_pre[0]}초')"
   ]
  },
  {
   "cell_type": "markdown",
   "metadata": {},
   "source": [
    "### <font color=blue>2.6 \"PZR LO PRESS INTERLOCK\" 경보발생(153.6㎏/㎠) 및 PZR PORV 차단밸브(BB-HV005, 006, 007) 닫힘<font color=green> - 만족"
   ]
  },
  {
   "cell_type": "code",
   "execution_count": 162,
   "metadata": {
    "scrolled": false
   },
   "outputs": [
    {
     "data": {
      "image/png": "[encoded data removed]",
      "text/plain": [
       "<Figure size 432x288 with 1 Axes>"
      ]
     },
     "metadata": {
      "needs_background": "light"
     },
     "output_type": "display_data"
    }
   ],
   "source": [
    "# BHV6 : PZR PORV 차단밸브\n",
    "# \"PZR LO PRESS INTERLOCK\" 경보발생(153.6㎏/㎠) 없음\n",
    "plt.plot(db['BHV6'], color='k') # -> PZR PORV 차단밸브 확인\n",
    "vline = plt.axvline(29, color='b', linestyle='--', linewidth=1)"
   ]
  },
  {
   "cell_type": "code",
   "execution_count": 164,
   "metadata": {},
   "outputs": [
    {
     "data": {
      "image/png": "[encoded data removed]",
      "text/plain": [
       "<Figure size 432x288 with 1 Axes>"
      ]
     },
     "metadata": {
      "needs_background": "light"
     },
     "output_type": "display_data"
    }
   ],
   "source": [
    "plt.plot(db['PPRZ'], color='k')\n",
    "plt.plot(db['CPPRZL'], color='r')# -> PZR PORV 차단밸브 확인\n",
    "vline = plt.axvline(29, color='b', linestyle='--', linewidth=1)"
   ]
  },
  {
   "cell_type": "code",
   "execution_count": 12,
   "metadata": {},
   "outputs": [
    {
     "name": "stdout",
     "output_type": "stream",
     "text": [
      "PZR PRESS LOW 경보 증상 및 가압기 PORV 차단 밸브 닫힘 만족 시간 : 48초\n"
     ]
    }
   ],
   "source": [
    "PZR_PRESS_LOW = []\n",
    "for i in range(len(db)):\n",
    "    if i > 29:\n",
    "        if db['PPRZ'][i] < db['CPPRZL'][1] and db['BHV6'][i] == 0:\n",
    "            PZR_PRESS_LOW.append(i+1)\n",
    "if len(PZR_PRESS_LOW) == 0:\n",
    "    print('증상을 만족하지 못했습니다.')\n",
    "else:\n",
    "    print(f'PZR PRESS LOW 경보 증상 및 가압기 PORV 차단 밸브 닫힘 만족 시간 : {PZR_PRESS_LOW[0]}초')"
   ]
  },
  {
   "cell_type": "markdown",
   "metadata": {},
   "source": [
    "### <font color=blue>2.7 \"PZR PRESS NOT HI(P-11)\" 경보 발생(138.5㎏/㎠)<font color=green> - 만족"
   ]
  },
  {
   "cell_type": "code",
   "execution_count": 166,
   "metadata": {},
   "outputs": [
    {
     "data": {
      "image/png": "[encoded data removed]",
      "text/plain": [
       "<Figure size 432x288 with 1 Axes>"
      ]
     },
     "metadata": {
      "needs_background": "light"
     },
     "output_type": "display_data"
    }
   ],
   "source": [
    "# KLAMPO216 = PERMISSIVE SIGNAL, P-11\n",
    "plt.plot(db['KLAMPO216'], color='r')\n",
    "vline = plt.axvline(29, color='b', linestyle='--', linewidth=1)"
   ]
  },
  {
   "cell_type": "code",
   "execution_count": 167,
   "metadata": {},
   "outputs": [
    {
     "name": "stdout",
     "output_type": "stream",
     "text": [
      "P_11 경보 증상 만족 시간 : 104초\n"
     ]
    }
   ],
   "source": [
    "P_11 = []\n",
    "for i in range(len(db)):\n",
    "    if i > 29:\n",
    "        if db['KLAMPO216'][i] == 1:\n",
    "            P_11.append(i+1)\n",
    "if len(P_11) == 0:\n",
    "    print('증상을 만족하지 못했습니다.')\n",
    "else:\n",
    "    print(f'P_11 경보 증상 만족 시간 : {P_11[0]}초')"
   ]
  },
  {
   "cell_type": "markdown",
   "metadata": {},
   "source": [
    "### <font color=blue>2.8 \"PZR PRESS LOW ALERT\" 경보 발생(136.8㎏/㎠) 및 Rx 트립 작동<font color=green> - 만족"
   ]
  },
  {
   "cell_type": "code",
   "execution_count": 14,
   "metadata": {},
   "outputs": [
    {
     "data": {
      "image/png": "[encoded data removed]",
      "text/plain": [
       "<Figure size 432x288 with 1 Axes>"
      ]
     },
     "metadata": {
      "needs_background": "light"
     },
     "output_type": "display_data"
    }
   ],
   "source": [
    "# KLAMPO308 : \"PZR PRESS LOW\"(BB-PT445) 경보\n",
    " # -> \"PZR PRESS LOW\"(BB-PT445) 경보 발생 확인\n",
    "plt.plot(db['PPRZ'], color='g') #실제 압력\n",
    "plt.plot(db['ZINST58']*98067, color='k') # 압력 지시치\n",
    "vline = plt.axhline(136.8*98067, color='r', linestyle='-', linewidth=1) \n",
    "# ㄹ \"PZR PRESS LOW ALERT 경보 발생 기준\"\n",
    "\n",
    "vline = plt.axvline(29, color='b', linestyle='--', linewidth=1)"
   ]
  },
  {
   "cell_type": "code",
   "execution_count": 169,
   "metadata": {},
   "outputs": [
    {
     "name": "stdout",
     "output_type": "stream",
     "text": [
      " Rx trip 만족 시간 : 126초\n"
     ]
    }
   ],
   "source": [
    "PRZ_low_trip = []\n",
    "for i in range(len(db)):\n",
    "    if i > 29:\n",
    "        if db['PPRZ'][i] < 136.8*98067 and db['KRXTRIP'][i] == 1 :\n",
    "            PRZ_low_trip.append(i+1)\n",
    "if len(PRZ_low_trip) == 0:\n",
    "    print('증상을 만족하지 못했습니다.')\n",
    "else:\n",
    "    print(f' Rx trip 만족 시간 : {PRZ_low_trip[0]}초')"
   ]
  },
  {
   "cell_type": "markdown",
   "metadata": {},
   "source": [
    "### <font color=blue>2.9 \"PZR PRESS LOW SI ALERT\" 경보 발생(126.7㎏/㎠) 및 SI 작동<font color=red> - 불만족"
   ]
  },
  {
   "cell_type": "code",
   "execution_count": 170,
   "metadata": {},
   "outputs": [
    {
     "data": {
      "image/png": "[encoded data removed]",
      "text/plain": [
       "<Figure size 432x288 with 1 Axes>"
      ]
     },
     "metadata": {
      "needs_background": "light"
     },
     "output_type": "display_data"
    }
   ],
   "source": [
    "# KLAMPO308 : \"PZR PRESS LOW\"(BB-PT445) 경보\n",
    " # -> \"PZR PRESS LOW\"(BB-PT445) 경보 발생 확인\n",
    "plt.plot(db['PPRZ'], color='r') #실제 압력\n",
    "vline = plt.axhline(126.7*98067, color='r', linestyle='-', linewidth=1)\n",
    "plt.plot(db['ZINST58']*98067, color='k') # 압력 지시치\n",
    "vline = plt.axvline(29, color='b', linestyle='--', linewidth=1)"
   ]
  },
  {
   "cell_type": "code",
   "execution_count": 104,
   "metadata": {},
   "outputs": [
    {
     "data": {
      "image/png": "[encoded data removed]",
      "text/plain": [
       "<Figure size 432x288 with 1 Axes>"
      ]
     },
     "metadata": {
      "needs_background": "light"
     },
     "output_type": "display_data"
    }
   ],
   "source": [
    "# PPRZN : 가압기 압력 (Narrow Range)\n",
    "plt.plot(db['PPRZN'], color='r')\n",
    "plt.plot(db['CSAFEI'], color='k')\n",
    "vline = plt.axvline(29, color='b', linestyle='--', linewidth=1)"
   ]
  },
  {
   "cell_type": "code",
   "execution_count": 115,
   "metadata": {},
   "outputs": [
    {
     "name": "stdout",
     "output_type": "stream",
     "text": [
      "증상을 만족하지 못했습니다.\n"
     ]
    }
   ],
   "source": [
    "pre_SI = []\n",
    "for i in range(len(db)):\n",
    "    if i > 29:\n",
    "        if db['PPRZN'][i] < db['CSAFEI'][i] :\n",
    "            pre_SI.append(i+1)\n",
    "if len(pre_SI) == 0:\n",
    "    print('증상을 만족하지 못했습니다.')\n",
    "else:\n",
    "    print(f'경보 및 SI 작동 만족 시간 : {pre_SI[0]}초')"
   ]
  },
  {
   "cell_type": "markdown",
   "metadata": {},
   "source": [
    "## <font color=blue>3.0 자동 동작사항"
   ]
  },
  {
   "cell_type": "markdown",
   "metadata": {},
   "source": [
    "### <font color=blue>3.1 PZR 전열기 모두 꺼짐(158.1㎏/㎠)<font color=green> - 만족"
   ]
  },
  {
   "cell_type": "code",
   "execution_count": 124,
   "metadata": {},
   "outputs": [
    {
     "data": {
      "image/png": "[encoded data removed]",
      "text/plain": [
       "<Figure size 432x288 with 1 Axes>"
      ]
     },
     "metadata": {
      "needs_background": "light"
     },
     "output_type": "display_data"
    }
   ],
   "source": [
    "# QPRZB : 비례전열기 전원\n",
    "# QPRZH : 보조전열기 전원\n",
    "plt.plot(db['QPRZB'], color='r') # -> 비례전열기 전원 확인\n",
    "plt.plot(db['QPRZH'], color='b') # -> 보조전열기 전원 확인\n",
    "vline = plt.axvline(29, color='b', linestyle='--', linewidth=1)"
   ]
  },
  {
   "cell_type": "code",
   "execution_count": 127,
   "metadata": {},
   "outputs": [
    {
     "name": "stdout",
     "output_type": "stream",
     "text": [
      "경보 및 SI 작동 만족 시간 : 31초\n"
     ]
    }
   ],
   "source": [
    "QPRZ_onoff = []\n",
    "for i in range(len(db)):\n",
    "    if i > 29:\n",
    "        if db['QPRZB'][i] < 0.2 and db['QPRZH'][i] < 0.2 :\n",
    "            QPRZ_onoff.append(i+1)\n",
    "if len(QPRZ_onoff) == 0:\n",
    "    print('증상을 만족하지 못했습니다.')\n",
    "else:\n",
    "    print(f'경보 및 SI 작동 만족 시간 : {QPRZ_onoff[0]}초')"
   ]
  },
  {
   "cell_type": "markdown",
   "metadata": {},
   "source": [
    "### <font color=blue>3.2 PZR 살수밸브(BB-PV444C, 444D) 열림(158.9㎏/㎠)<font color=green> - 만족"
   ]
  },
  {
   "cell_type": "code",
   "execution_count": 128,
   "metadata": {},
   "outputs": [
    {
     "data": {
      "image/png": "[encoded data removed]",
      "text/plain": [
       "<Figure size 432x288 with 1 Axes>"
      ]
     },
     "metadata": {
      "needs_background": "light"
     },
     "output_type": "display_data"
    }
   ],
   "source": [
    "# BPRZSP : PZR 살수밸브 포지션\n",
    "plt.plot(db['BPRZSP'], color='k') # -> PZR 살수밸브 포지션 확인\n",
    "vline = plt.axvline(29, color='b', linestyle='--', linewidth=1)"
   ]
  },
  {
   "cell_type": "code",
   "execution_count": 129,
   "metadata": {},
   "outputs": [
    {
     "name": "stdout",
     "output_type": "stream",
     "text": [
      "가압기 살수 밸브 열림 지시 만족 시간 : 31초\n"
     ]
    }
   ],
   "source": [
    "auto_spray_valve = []\n",
    "for i in range(len(db)):\n",
    "    if i > 29:\n",
    "        if db['BPRZSP'][i] > 0:\n",
    "            auto_spray_valve.append(i+1)\n",
    "if len(auto_spray_valve) == 0:\n",
    "    print('증상을 만족하지 못했습니다.')\n",
    "else:\n",
    "    print(f'가압기 살수 밸브 열림 지시 만족 시간 : {auto_spray_valve[0]}초')"
   ]
  },
  {
   "cell_type": "markdown",
   "metadata": {},
   "source": [
    "### 3.4 Rx 트립(136.8㎏/㎠)<font color=green> - 만족"
   ]
  },
  {
   "cell_type": "code",
   "execution_count": 140,
   "metadata": {},
   "outputs": [
    {
     "data": {
      "image/png": "[encoded data removed]",
      "text/plain": [
       "<Figure size 432x288 with 1 Axes>"
      ]
     },
     "metadata": {
      "needs_background": "light"
     },
     "output_type": "display_data"
    }
   ],
   "source": [
    "# BPRZSP : PZR 살수밸브 포지션\n",
    "plt.plot(db['PPRZ'], color='k') # -> PZR 살수밸브 포지션 확인\n",
    "vline = plt.axhline(13415497.2, color='r', linestyle='-', linewidth=1)\n",
    "vline = plt.axvline(29, color='b', linestyle='--', linewidth=1)"
   ]
  },
  {
   "cell_type": "code",
   "execution_count": 142,
   "metadata": {},
   "outputs": [
    {
     "name": "stdout",
     "output_type": "stream",
     "text": [
      "경보 및 SI 작동 만족 시간 : 126초\n"
     ]
    }
   ],
   "source": [
    "pre_RX = []\n",
    "for i in range(len(db)):\n",
    "    if i > 29:\n",
    "        if db['KRXTRIP'][i] == 1 :\n",
    "            pre_RX.append(i+1)\n",
    "if len(pre_RX) == 0:\n",
    "    print('증상을 만족하지 못했습니다.')\n",
    "else:\n",
    "    print(f'경보 및 SI 작동 만족 시간 : {pre_RX[0]}초')"
   ]
  },
  {
   "cell_type": "code",
   "execution_count": 137,
   "metadata": {},
   "outputs": [
    {
     "name": "stdout",
     "output_type": "stream",
     "text": [
      "경보 및 SI 작동 만족 시간 : 125초\n"
     ]
    }
   ],
   "source": [
    "trip_set = []\n",
    "for i in range(len(db)):\n",
    "    if i > 29:\n",
    "        if db['PPRZ'][i] < 13415497.2 :\n",
    "            trip_set.append(i+1)\n",
    "if len(trip_set) == 0:\n",
    "    print('증상을 만족하지 못했습니다.')\n",
    "else:\n",
    "    print(f'경보 및 SI 작동 만족 시간 : {trip_set[0]}초')"
   ]
  },
  {
   "cell_type": "markdown",
   "metadata": {},
   "source": [
    "### <font color=blue>3.5 SI 작동(126.7㎏/㎠)<font color=red> - 불만족"
   ]
  },
  {
   "cell_type": "code",
   "execution_count": 141,
   "metadata": {
    "scrolled": false
   },
   "outputs": [
    {
     "data": {
      "image/png": "[encoded data removed]",
      "text/plain": [
       "<Figure size 432x288 with 1 Axes>"
      ]
     },
     "metadata": {
      "needs_background": "light"
     },
     "output_type": "display_data"
    }
   ],
   "source": [
    "# BPRZSP : PZR 살수밸브 포지션\n",
    "plt.plot(db['PPRZ'], color='k') # -> PZR 살수밸브 포지션 확인\n",
    "vline = plt.axhline(12425025.55, color='r', linestyle='-', linewidth=1)\n",
    "vline = plt.axvline(29, color='b', linestyle='--', linewidth=1)"
   ]
  },
  {
   "cell_type": "code",
   "execution_count": 143,
   "metadata": {},
   "outputs": [
    {
     "name": "stdout",
     "output_type": "stream",
     "text": [
      "증상을 만족하지 못했습니다.\n"
     ]
    }
   ],
   "source": [
    "pre_SI = []\n",
    "for i in range(len(db)):\n",
    "    if i > 29:\n",
    "        if db['KLAMPO6'][i] == 1 :\n",
    "            pre_SI.append(i+1)\n",
    "if len(pre_SI) == 0:\n",
    "    print('증상을 만족하지 못했습니다.')\n",
    "else:\n",
    "    print(f'경보 및 SI 작동 만족 시간 : {pre_SI[0]}초')"
   ]
  },
  {
   "cell_type": "code",
   "execution_count": 146,
   "metadata": {},
   "outputs": [
    {
     "name": "stdout",
     "output_type": "stream",
     "text": [
      "증상을 만족하지 못했습니다.\n"
     ]
    }
   ],
   "source": [
    "trip_set = []\n",
    "for i in range(len(db)):\n",
    "    if i > 29:\n",
    "        if db['PPRZ'][i] < 12425025.55 :\n",
    "            trip_set.append(i+1)\n",
    "if len(trip_set) == 0:\n",
    "    print('증상을 만족하지 못했습니다.')\n",
    "else:\n",
    "    print(f'경보 및 SI 작동 만족 시간 : {trip_set[0]}초')"
   ]
  },
  {
   "cell_type": "markdown",
   "metadata": {},
   "source": [
    "## <font color=blue> 4.0 긴급 조치사항"
   ]
  },
  {
   "cell_type": "markdown",
   "metadata": {},
   "source": [
    "### <font color=blue>4.1 PZR 압력 제어기 BB-PK444A를 수동으로 전환하여 압력을 조절한다. (동시확인)"
   ]
  },
  {
   "cell_type": "code",
   "execution_count": null,
   "metadata": {},
   "outputs": [],
   "source": []
  },
  {
   "cell_type": "markdown",
   "metadata": {},
   "source": [
    "### <font color=blue>4.2 PZR ‘고’ 압력에서 전열기가 켜져 있으면 전열기를 수동으로 꺼준다."
   ]
  },
  {
   "cell_type": "code",
   "execution_count": null,
   "metadata": {},
   "outputs": [],
   "source": []
  },
  {
   "cell_type": "markdown",
   "metadata": {},
   "source": [
    "### <font color=blue>4.3 PZR 압력이 정상으로 유지되는지 확인한다."
   ]
  },
  {
   "cell_type": "code",
   "execution_count": null,
   "metadata": {},
   "outputs": [],
   "source": []
  },
  {
   "cell_type": "markdown",
   "metadata": {},
   "source": [
    "### <font color=blue>4.4 PZR PORV(BB-PV444B, 445A, 445B)가 열리지 않도록 압력을 조절한다."
   ]
  },
  {
   "cell_type": "code",
   "execution_count": null,
   "metadata": {},
   "outputs": [],
   "source": []
  }
 ],
 "metadata": {
  "kernelspec": {
   "display_name": "Python 3",
   "language": "python",
   "name": "python3"
  },
  "language_info": {
   "codemirror_mode": {
    "name": "ipython",
    "version": 3
   },
   "file_extension": ".py",
   "mimetype": "text/x-python",
   "name": "python",
   "nbconvert_exporter": "python",
   "pygments_lexer": "ipython3",
   "version": "3.7.9"
  }
 },
 "nbformat": 4,
 "nbformat_minor": 4
}
